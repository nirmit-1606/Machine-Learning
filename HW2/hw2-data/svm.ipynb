{
 "cells": [
  {
   "cell_type": "code",
   "execution_count": 9,
   "metadata": {},
   "outputs": [],
   "source": [
    "import pandas as pd\n",
    "\n",
    "train_data = pd.read_csv(\"train.txt\", sep='\\t', header=None, names=[\"Label\", \"Content\"])\n",
    "dev_data = pd.read_csv(\"dev.txt\", sep='\\t', header=None, names=[\"Label\", \"Content\"])"
   ]
  },
  {
   "cell_type": "code",
   "execution_count": 10,
   "metadata": {},
   "outputs": [
    {
     "data": {
      "text/html": [
       "<div>\n",
       "<style scoped>\n",
       "    .dataframe tbody tr th:only-of-type {\n",
       "        vertical-align: middle;\n",
       "    }\n",
       "\n",
       "    .dataframe tbody tr th {\n",
       "        vertical-align: top;\n",
       "    }\n",
       "\n",
       "    .dataframe thead th {\n",
       "        text-align: right;\n",
       "    }\n",
       "</style>\n",
       "<table border=\"1\" class=\"dataframe\">\n",
       "  <thead>\n",
       "    <tr style=\"text-align: right;\">\n",
       "      <th></th>\n",
       "      <th>Label</th>\n",
       "      <th>Content</th>\n",
       "    </tr>\n",
       "  </thead>\n",
       "  <tbody>\n",
       "    <tr>\n",
       "      <th>0</th>\n",
       "      <td>+</td>\n",
       "      <td>it 's a tour de force , written and directed s...</td>\n",
       "    </tr>\n",
       "    <tr>\n",
       "      <th>1</th>\n",
       "      <td>-</td>\n",
       "      <td>places a slightly believable love triangle in ...</td>\n",
       "    </tr>\n",
       "    <tr>\n",
       "      <th>2</th>\n",
       "      <td>+</td>\n",
       "      <td>for those of an indulgent , slightly sunbaked ...</td>\n",
       "    </tr>\n",
       "    <tr>\n",
       "      <th>3</th>\n",
       "      <td>-</td>\n",
       "      <td>exactly what you 'd expect from a guy named kaos</td>\n",
       "    </tr>\n",
       "    <tr>\n",
       "      <th>4</th>\n",
       "      <td>+</td>\n",
       "      <td>unfortunately , it appears that jackie chan 's...</td>\n",
       "    </tr>\n",
       "  </tbody>\n",
       "</table>\n",
       "</div>"
      ],
      "text/plain": [
       "  Label                                            Content\n",
       "0     +  it 's a tour de force , written and directed s...\n",
       "1     -  places a slightly believable love triangle in ...\n",
       "2     +  for those of an indulgent , slightly sunbaked ...\n",
       "3     -   exactly what you 'd expect from a guy named kaos\n",
       "4     +  unfortunately , it appears that jackie chan 's..."
      ]
     },
     "execution_count": 10,
     "metadata": {},
     "output_type": "execute_result"
    }
   ],
   "source": [
    "train_data[:5]"
   ]
  },
  {
   "cell_type": "code",
   "execution_count": 28,
   "metadata": {},
   "outputs": [],
   "source": [
    "from sklearn.feature_extraction.text import TfidfVectorizer\n",
    "\n",
    "# Create feature vectors\n",
    "vectorizer = TfidfVectorizer(min_df = 1)\n",
    "train_vectors = vectorizer.fit_transform(train_data['Content'])\n",
    "test_vectors = vectorizer.transform(dev_data['Content'])"
   ]
  },
  {
   "cell_type": "code",
   "execution_count": 32,
   "metadata": {},
   "outputs": [
    {
     "name": "stdout",
     "output_type": "stream",
     "text": [
      "best dev err 26.8%, time: 4.8 secs\n"
     ]
    }
   ],
   "source": [
    "import time\n",
    "from sklearn import svm\n",
    "from sklearn.metrics import classification_report\n",
    "\n",
    "# Perform classification with SVM, kernel=linear\n",
    "t = time.time()\n",
    "classifier_linear = svm.SVC(kernel='linear')\n",
    "classifier_linear.fit(train_vectors, train_data['Label'])\n",
    "prediction_linear = classifier_linear.predict(test_vectors)\n",
    "\n",
    "# results\n",
    "report = classification_report(dev_data['Label'], prediction_linear, output_dict=True)\n",
    "print(\"best dev err %.1f%%, time: %.1f secs\" % ((1-report['accuracy'])*100, time.time() - t))\n"
   ]
  },
  {
   "cell_type": "code",
   "execution_count": 54,
   "metadata": {},
   "outputs": [],
   "source": [
    "#creating a function\n",
    "\n",
    "def svm_train(trainfile, devfile, filter_count = 1):\n",
    "    t = time.time()\n",
    "    train_data = pd.read_csv(trainfile, sep='\\t', header=None, names=[\"Label\", \"Content\"])\n",
    "    dev_data = pd.read_csv(devfile, sep='\\t', header=None, names=[\"Label\", \"Content\"])\n",
    "\n",
    "    # Create feature vectors\n",
    "    vectorizer = TfidfVectorizer(min_df = filter_count) # filter n count words\n",
    "    train_vectors = vectorizer.fit_transform(train_data['Content'])\n",
    "    test_vectors = vectorizer.transform(dev_data['Content'])\n",
    "\n",
    "    # Perform classification with SVM, kernel=linear\n",
    "    classifier_linear = svm.SVC(kernel='linear')\n",
    "    classifier_linear.fit(train_vectors, train_data['Label'])\n",
    "    prediction_linear = classifier_linear.predict(test_vectors)\n",
    "\n",
    "    # results\n",
    "    report = classification_report(dev_data['Label'], prediction_linear, output_dict=True)\n",
    "    print(\"dev err %.1f%%, |w|=%d time: %.1f secs\" % ((1-report['accuracy'])*100, train_vectors.shape[1], time.time() - t))\n"
   ]
  },
  {
   "cell_type": "code",
   "execution_count": 55,
   "metadata": {},
   "outputs": [
    {
     "name": "stdout",
     "output_type": "stream",
     "text": [
      "dev err 26.8%, |w|=15747 time: 4.9 secs\n"
     ]
    }
   ],
   "source": [
    "svm_train(\"train.txt\", \"dev.txt\")"
   ]
  },
  {
   "cell_type": "code",
   "execution_count": 66,
   "metadata": {},
   "outputs": [
    {
     "name": "stdout",
     "output_type": "stream",
     "text": [
      "dev err 26.5%, |w|=8352 time: 4.6 secs\n"
     ]
    }
   ],
   "source": [
    "svm_train(\"train.txt\", \"dev.txt\", 2)"
   ]
  },
  {
   "cell_type": "code",
   "execution_count": 61,
   "metadata": {},
   "outputs": [
    {
     "name": "stdout",
     "output_type": "stream",
     "text": [
      "n =  0\n",
      "dev err 26.8%, |w|=15747 time: 5.0 secs\n",
      "n =  1\n",
      "dev err 26.5%, |w|=8352 time: 4.5 secs\n",
      "n =  2\n",
      "dev err 26.9%, |w|=5856 time: 4.2 secs\n",
      "n =  3\n",
      "dev err 26.5%, |w|=4500 time: 4.1 secs\n",
      "n =  4\n",
      "dev err 27.5%, |w|=3621 time: 3.9 secs\n",
      "n =  5\n",
      "dev err 26.7%, |w|=3011 time: 3.8 secs\n"
     ]
    }
   ],
   "source": [
    "for n in range(1, 7):\n",
    "    print(\"n = \", n-1)\n",
    "    svm_train(\"train.txt\", \"dev.txt\", n)"
   ]
  },
  {
   "cell_type": "code",
   "execution_count": 44,
   "metadata": {},
   "outputs": [
    {
     "name": "stdout",
     "output_type": "stream",
     "text": [
      "8000\n"
     ]
    }
   ],
   "source": [
    "# len(train_vectors)\n",
    "print(train_vectors.shape[0])"
   ]
  },
  {
   "cell_type": "code",
   "execution_count": 50,
   "metadata": {},
   "outputs": [
    {
     "data": {
      "text/plain": [
       "15747"
      ]
     },
     "execution_count": 50,
     "metadata": {},
     "output_type": "execute_result"
    }
   ],
   "source": [
    "train_vectors.shape[1]"
   ]
  },
  {
   "cell_type": "code",
   "execution_count": 58,
   "metadata": {},
   "outputs": [],
   "source": [
    "import matplotlib.pyplot as plt"
   ]
  },
  {
   "cell_type": "markdown",
   "metadata": {},
   "source": [
    "Average Perceptron\n",
    "\n",
    "Filtering 0 count words\n",
    "\n",
    "best epoch 12 best dev err 25.9%, |w|=15806, time: 0.7 secs\n",
    "\n",
    "Filtering 1 count words\n",
    "\n",
    "best epoch 8 best dev err 26.0%, |w|=8425, time: 0.7 secs\n",
    "\n",
    "Filtering 2 count words\n",
    "\n",
    "best epoch 4 best dev err 27.2%, |w|=5934, time: 0.7 secs\n",
    "\n",
    "Filtering 3 count words\n",
    "\n",
    "best epoch 9 best dev err 26.1%, |w|=4574, time: 0.7 secs\n",
    "\n",
    "Filtering 4 count words\n",
    "\n",
    "best epoch 12 best dev err 27.0%, |w|=3686, time: 0.7 secs\n",
    "\n",
    "Filtering 5 count words\n",
    "\n",
    "best epoch 9 best dev err 27.3%, |w|=3078, time: 0.7 secs"
   ]
  },
  {
   "cell_type": "code",
   "execution_count": 67,
   "metadata": {},
   "outputs": [
    {
     "data": {
      "image/png": "[encoded data removed]",
      "text/plain": [
       "<Figure size 640x480 with 1 Axes>"
      ]
     },
     "metadata": {},
     "output_type": "display_data"
    }
   ],
   "source": [
    "plt.plot([n for n in range(6)], [25.9,26.0,27.2,26.1,27.0,27.3], label = 'average perceptron')\n",
    "plt.plot([n for n in range(6)], [26.8,26.5,26.9,26.5,27.5,26.7], label='svm')\n",
    "plt.xlabel('n-count filtered data')\n",
    "plt.ylabel('dev error %')\n",
    "plt.legend()\n",
    "plt.show()"
   ]
  },
  {
   "cell_type": "code",
   "execution_count": null,
   "metadata": {},
   "outputs": [],
   "source": []
  }
 ],
 "metadata": {
  "kernelspec": {
   "display_name": "Python 3.10.8 ('env': venv)",
   "language": "python",
   "name": "python3"
  },
  "language_info": {
   "codemirror_mode": {
    "name": "ipython",
    "version": 3
   },
   "file_extension": ".py",
   "mimetype": "text/x-python",
   "name": "python",
   "nbconvert_exporter": "python",
   "pygments_lexer": "ipython3",
   "version": "3.10.8"
  },
  "orig_nbformat": 4,
  "vscode": {
   "interpreter": {
    "hash": "5db6659acf091b31f7860f9fb3b38e6b34716c17d4d68ee2e9e2a20589863307"
   }
  }
 },
 "nbformat": 4,
 "nbformat_minor": 2
}
