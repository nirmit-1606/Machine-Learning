{
 "cells": [
  {
   "cell_type": "code",
   "execution_count": 19,
   "metadata": {},
   "outputs": [],
   "source": [
    "import pandas as pd\n",
    "from sklearn.preprocessing import OneHotEncoder\n",
    "from sklearn.compose import ColumnTransformer\n",
    "import numpy as np\n",
    "from sklearn.preprocessing import MinMaxScaler\n",
    "from sklearn.linear_model import LinearRegression\n",
    "from sklearn.metrics import mean_squared_error\n",
    "from sklearn.linear_model import Ridge"
   ]
  },
  {
   "cell_type": "code",
   "execution_count": 27,
   "metadata": {},
   "outputs": [
    {
     "name": "stderr",
     "output_type": "stream",
     "text": [
      "/var/folders/3h/5ch9gkv90lxdnr54086zz5rh0000gn/T/ipykernel_11039/2812674997.py:29: SettingWithCopyWarning: \n",
      "A value is trying to be set on a copy of a slice from a DataFrame.\n",
      "Try using .loc[row_indexer,col_indexer] = value instead\n",
      "\n",
      "See the caveats in the documentation: https://pandas.pydata.org/pandas-docs/stable/user_guide/indexing.html#returning-a-view-versus-a-copy\n",
      "  X_train[num_cols] = X_train[num_cols].fillna(0)\n",
      "/var/folders/3h/5ch9gkv90lxdnr54086zz5rh0000gn/T/ipykernel_11039/2812674997.py:30: SettingWithCopyWarning: \n",
      "A value is trying to be set on a copy of a slice from a DataFrame.\n",
      "Try using .loc[row_indexer,col_indexer] = value instead\n",
      "\n",
      "See the caveats in the documentation: https://pandas.pydata.org/pandas-docs/stable/user_guide/indexing.html#returning-a-view-versus-a-copy\n",
      "  X_dev[num_cols] = X_dev[num_cols].fillna(0)\n",
      "/var/folders/3h/5ch9gkv90lxdnr54086zz5rh0000gn/T/ipykernel_11039/2812674997.py:32: SettingWithCopyWarning: \n",
      "A value is trying to be set on a copy of a slice from a DataFrame.\n",
      "Try using .loc[row_indexer,col_indexer] = value instead\n",
      "\n",
      "See the caveats in the documentation: https://pandas.pydata.org/pandas-docs/stable/user_guide/indexing.html#returning-a-view-versus-a-copy\n",
      "  X_train[cat_cols] = X_train[cat_cols].astype(str)\n",
      "/var/folders/3h/5ch9gkv90lxdnr54086zz5rh0000gn/T/ipykernel_11039/2812674997.py:33: SettingWithCopyWarning: \n",
      "A value is trying to be set on a copy of a slice from a DataFrame.\n",
      "Try using .loc[row_indexer,col_indexer] = value instead\n",
      "\n",
      "See the caveats in the documentation: https://pandas.pydata.org/pandas-docs/stable/user_guide/indexing.html#returning-a-view-versus-a-copy\n",
      "  X_dev[cat_cols] = X_dev[cat_cols].astype(str)\n",
      "/Users/nirmitpatel/Documents/Academics/Fall_2023/Machine Learning/HW1/env/lib/python3.10/site-packages/sklearn/linear_model/_ridge.py:200: LinAlgWarning: Ill-conditioned matrix (rcond=5.5809e-18): result may not be accurate.\n",
      "  return linalg.solve(A, Xy, assume_a=\"pos\", overwrite_a=True).T\n"
     ]
    },
    {
     "name": "stdout",
     "output_type": "stream",
     "text": [
      "Alpha: 1e-06, \tRMSLE on Dev Set: 0.1293417636059453\n"
     ]
    },
    {
     "name": "stderr",
     "output_type": "stream",
     "text": [
      "/Users/nirmitpatel/Documents/Academics/Fall_2023/Machine Learning/HW1/env/lib/python3.10/site-packages/sklearn/linear_model/_ridge.py:200: LinAlgWarning: Ill-conditioned matrix (rcond=6.59566e-17): result may not be accurate.\n",
      "  return linalg.solve(A, Xy, assume_a=\"pos\", overwrite_a=True).T\n"
     ]
    },
    {
     "name": "stdout",
     "output_type": "stream",
     "text": [
      "Alpha: 1e-05, \tRMSLE on Dev Set: 0.129341484415729\n",
      "Alpha: 0.0001, \tRMSLE on Dev Set: 0.12933869188753663\n",
      "Alpha: 0.001, \tRMSLE on Dev Set: 0.12931105327622275\n",
      "Alpha: 0.01, \tRMSLE on Dev Set: 0.1290594407478855\n",
      "Alpha: 0.1, \tRMSLE on Dev Set: 0.12773790768594187\n",
      "Alpha: 1.0, \tRMSLE on Dev Set: 0.12681305739675544\n",
      "Alpha: 10.0, \tRMSLE on Dev Set: 0.1258292648816759\n",
      "Alpha: 100.0, \tRMSLE on Dev Set: 0.12732200223756526\n",
      "Alpha: 1000.0, \tRMSLE on Dev Set: 0.13662714084181343\n",
      "Alpha: 10000.0, \tRMSLE on Dev Set: 0.15446973542575876\n",
      "Alpha: 100000.0, \tRMSLE on Dev Set: 0.1580726687248719\n",
      "Alpha: 1000000.0, \tRMSLE on Dev Set: 0.1593155209836359\n"
     ]
    }
   ],
   "source": [
    "column_names = pd.read_csv(\"hw3-data/my_train.csv\", nrows=1).columns.tolist()\n",
    "\n",
    "train_data = pd.read_csv(\"hw3-data/my_train.csv\", sep=\",\", skiprows=1, names=column_names, engine=\"python\")\n",
    "dev_data = pd.read_csv(\"hw3-data/my_dev.csv\", sep=\",\", skiprows=1, names=column_names, engine=\"python\")\n",
    "test_data = pd.read_csv(\"hw3-data/test.csv\", sep=\",\", skiprows=1, names=column_names[:-1], engine=\"python\")\n",
    "\n",
    "# Separate features and target variable\n",
    "X_train = train_data[column_names[1:-1]]  # Features\n",
    "y_train = np.log(train_data['SalePrice'])  # Target variable\n",
    "\n",
    "X_dev = dev_data[column_names[1:-1]]  # Features\n",
    "y_dev = np.log(dev_data['SalePrice'])  # Target variable\n",
    "\n",
    "# 'OverallQual', 'OverallCond', 'BsmtFullBath', 'BsmtHalfBath', 'FullBath', 'HalfBath', 'BedroomAbvGr', 'KitchenAbvGr', \n",
    "# 'TotRmsAbvGrd', 'Fireplaces', 'GarageCars', 'YearBuilt', 'YearRemodAdd', 'MoSold', 'YrSold'\n",
    "\n",
    "num_cols = [\n",
    "    'LotFrontage', 'LotArea', \n",
    "    'MasVnrArea', 'BsmtFinSF1', 'BsmtFinSF2', 'BsmtUnfSF', 'TotalBsmtSF',\n",
    "    '1stFlrSF', '2ndFlrSF', 'LowQualFinSF', 'GrLivArea', \n",
    "    'GarageYrBlt', 'GarageArea', 'WoodDeckSF', 'OpenPorchSF', 'EnclosedPorch',\n",
    "    '3SsnPorch', 'ScreenPorch', 'PoolArea', 'MiscVal',\n",
    "    'OverallQual', 'OverallCond', 'BsmtFullBath', 'BsmtHalfBath', 'FullBath', 'HalfBath', 'BedroomAbvGr', 'KitchenAbvGr', \n",
    "    'TotRmsAbvGrd', 'Fireplaces', 'GarageCars', 'YearBuilt', 'YearRemodAdd', 'MoSold', 'YrSold'\n",
    "]\n",
    "\n",
    "cat_cols = np.array([c for c in column_names[1:-1] if c not in num_cols])\n",
    "\n",
    "X_train[num_cols] = X_train[num_cols].fillna(0)\n",
    "X_dev[num_cols] = X_dev[num_cols].fillna(0)\n",
    "\n",
    "X_train[cat_cols] = X_train[cat_cols].astype(str)\n",
    "X_dev[cat_cols] = X_dev[cat_cols].astype(str)\n",
    "\n",
    "num_processor = 'passthrough'\n",
    "# num_processor = MinMaxScaler()\n",
    "cat_processor = OneHotEncoder(sparse_output=False, handle_unknown='ignore')\n",
    "\n",
    "preprocessor = ColumnTransformer([\n",
    "    ('cat', cat_processor, cat_cols),\n",
    "    ('num', num_processor, num_cols)\n",
    "])\n",
    "\n",
    "# Binarization\n",
    "X_train_binary = preprocessor.fit_transform(X_train)\n",
    "X_dev_binary = preprocessor.transform(X_dev)\n",
    "\n",
    "# # Train linear regression model\n",
    "# model = LinearRegression()\n",
    "# model.fit(X_train_binary, y_train)\n",
    "\n",
    "alphas = np.logspace(-6, 6, 13)\n",
    "\n",
    "# Train Ridge regression model\n",
    "\n",
    "for alpha in alphas:\n",
    "# alpha = 5.0  # Regularization strength\n",
    "    ridge_model = Ridge(alpha=alpha)\n",
    "    ridge_model.fit(X_train_binary, y_train)\n",
    "\n",
    "# # Make predictions\n",
    "# y_pred = model.predict(X_dev_binary)\n",
    "\n",
    "    y_pred = ridge_model.predict(X_dev_binary)\n",
    "\n",
    "    rmsle = np.sqrt(mean_squared_error(y_dev, y_pred))\n",
    "    print(f'Alpha: {alpha}, \\tRMSLE on Dev Set: {rmsle}')"
   ]
  },
  {
   "cell_type": "code",
   "execution_count": 17,
   "metadata": {},
   "outputs": [
    {
     "name": "stdout",
     "output_type": "stream",
     "text": [
      "Total Features:\n",
      "316\n",
      "Top 10 Most Positive Features:\n",
      "                   Feature   Coefficient\n",
      "21        cat__Street_Pave  5.479288e+12\n",
      "20        cat__Street_Grvl  5.479288e+12\n",
      "234  cat__GarageFinish_RFn  5.113612e+12\n",
      "233  cat__GarageFinish_Fin  5.113612e+12\n",
      "235  cat__GarageFinish_Unf  5.113612e+12\n",
      "197      cat__HeatingQC_Ex  3.182137e+12\n",
      "199      cat__HeatingQC_Gd  3.182137e+12\n",
      "200      cat__HeatingQC_TA  3.182137e+12\n",
      "198      cat__HeatingQC_Fa  3.182137e+12\n",
      "251      cat__PavedDrive_Y  1.997340e+12\n",
      "\n",
      "Top 10 Most Negative Features:\n",
      "                   Feature   Coefficient\n",
      "88     cat__BldgType_Twnhs -3.378503e+12\n",
      "86    cat__BldgType_2fmCon -3.378503e+12\n",
      "89    cat__BldgType_TwnhsE -3.378503e+12\n",
      "85      cat__BldgType_1Fam -3.378503e+12\n",
      "37      cat__LotConfig_FR2 -2.718185e+12\n",
      "39   cat__LotConfig_Inside -2.718185e+12\n",
      "38      cat__LotConfig_FR3 -2.718185e+12\n",
      "35   cat__LotConfig_Corner -2.718185e+12\n",
      "36  cat__LotConfig_CulDSac -2.718185e+12\n",
      "14      cat__MSSubClass_90 -2.189628e+12\n"
     ]
    }
   ],
   "source": [
    "# Get feature names from one-hot encoder\n",
    "feature_names = preprocessor.get_feature_names_out()\n",
    "\n",
    "# Create a DataFrame with feature names and their coefficients\n",
    "coef_df = pd.DataFrame({'Feature': feature_names, 'Coefficient': model.coef_})\n",
    "\n",
    "# Sort the DataFrame by coefficients in descending order\n",
    "sorted_coef_df = coef_df.sort_values(by='Coefficient', ascending=False)\n",
    "\n",
    "# Top 10 most positive features\n",
    "top_positive_features = sorted_coef_df.head(10)\n",
    "\n",
    "# Sort the DataFrame by coefficients in ascending order\n",
    "sorted_coef_df = coef_df.sort_values(by='Coefficient', ascending=True)\n",
    "\n",
    "# Top 10 most negative features\n",
    "top_negative_features = sorted_coef_df.head(10)\n",
    "\n",
    "# Total number of features\n",
    "print(\"Total Features:\")\n",
    "print(len(feature_names))\n",
    "\n",
    "# Print the results\n",
    "print(\"Top 10 Most Positive Features:\")\n",
    "print(top_positive_features)\n",
    "\n",
    "print(\"\\nTop 10 Most Negative Features:\")\n",
    "print(top_negative_features)"
   ]
  },
  {
   "cell_type": "code",
   "execution_count": 28,
   "metadata": {},
   "outputs": [
    {
     "data": {
      "text/plain": [
       "0.1258292648816759"
      ]
     },
     "execution_count": 28,
     "metadata": {},
     "output_type": "execute_result"
    }
   ],
   "source": [
    "ridge_model = Ridge(alpha=10)\n",
    "ridge_model.fit(X_train_binary, y_train)\n",
    "\n",
    "y_pred = ridge_model.predict(X_dev_binary)\n",
    "\n",
    "np.sqrt(mean_squared_error(y_dev, y_pred))"
   ]
  },
  {
   "cell_type": "code",
   "execution_count": 29,
   "metadata": {},
   "outputs": [
    {
     "name": "stderr",
     "output_type": "stream",
     "text": [
      "/var/folders/3h/5ch9gkv90lxdnr54086zz5rh0000gn/T/ipykernel_11039/1299778801.py:3: SettingWithCopyWarning: \n",
      "A value is trying to be set on a copy of a slice from a DataFrame.\n",
      "Try using .loc[row_indexer,col_indexer] = value instead\n",
      "\n",
      "See the caveats in the documentation: https://pandas.pydata.org/pandas-docs/stable/user_guide/indexing.html#returning-a-view-versus-a-copy\n",
      "  X_test[num_cols] = X_test[num_cols].fillna(0)\n",
      "/var/folders/3h/5ch9gkv90lxdnr54086zz5rh0000gn/T/ipykernel_11039/1299778801.py:4: SettingWithCopyWarning: \n",
      "A value is trying to be set on a copy of a slice from a DataFrame.\n",
      "Try using .loc[row_indexer,col_indexer] = value instead\n",
      "\n",
      "See the caveats in the documentation: https://pandas.pydata.org/pandas-docs/stable/user_guide/indexing.html#returning-a-view-versus-a-copy\n",
      "  X_test[cat_cols] = X_test[cat_cols].astype(str)\n"
     ]
    }
   ],
   "source": [
    "X_test = test_data[column_names[1:-1]]  # Features\n",
    "\n",
    "X_test[num_cols] = X_test[num_cols].fillna(0)\n",
    "X_test[cat_cols] = X_test[cat_cols].astype(str)\n",
    "\n",
    "X_test_binary = preprocessor.transform(X_test)\n",
    "\n",
    "# Make predictions\n",
    "y_test_pred = np.exp(ridge_model.predict(X_test_binary))\n",
    "\n",
    "# Assigning new predicted column to the dataset\n",
    "test_data['SalePrice'] = y_test_pred\n",
    "\n",
    "# Create a new DataFrame with 'ID' and 'SalePrice'\n",
    "result_df = test_data[['Id', 'SalePrice']]\n",
    "\n",
    "# Save the DataFrame to a CSV file with a header\n",
    "result_df.to_csv('smart_binarization_ridge.csv', index=False)"
   ]
  },
  {
   "cell_type": "code",
   "execution_count": null,
   "metadata": {},
   "outputs": [],
   "source": []
  }
 ],
 "metadata": {
  "kernelspec": {
   "display_name": "Python 3.10.8 ('env': venv)",
   "language": "python",
   "name": "python3"
  },
  "language_info": {
   "codemirror_mode": {
    "name": "ipython",
    "version": 3
   },
   "file_extension": ".py",
   "mimetype": "text/x-python",
   "name": "python",
   "nbconvert_exporter": "python",
   "pygments_lexer": "ipython3",
   "version": "3.10.8"
  },
  "orig_nbformat": 4,
  "vscode": {
   "interpreter": {
    "hash": "5db6659acf091b31f7860f9fb3b38e6b34716c17d4d68ee2e9e2a20589863307"
   }
  }
 },
 "nbformat": 4,
 "nbformat_minor": 2
}
