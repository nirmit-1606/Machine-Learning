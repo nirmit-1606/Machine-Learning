{
 "cells": [
  {
   "cell_type": "code",
   "execution_count": 62,
   "metadata": {},
   "outputs": [],
   "source": [
    "import pandas as pd\n",
    "from sklearn.preprocessing import OneHotEncoder\n",
    "from sklearn.compose import ColumnTransformer\n",
    "import numpy as np\n",
    "from sklearn.linear_model import LinearRegression, Ridge\n",
    "from sklearn.preprocessing import PolynomialFeatures\n",
    "from sklearn.pipeline import make_pipeline\n",
    "from sklearn.metrics import mean_squared_error\n",
    "\n",
    "from sklearn.ensemble import RandomForestRegressor"
   ]
  },
  {
   "cell_type": "code",
   "execution_count": 43,
   "metadata": {},
   "outputs": [
    {
     "name": "stderr",
     "output_type": "stream",
     "text": [
      "/var/folders/3h/5ch9gkv90lxdnr54086zz5rh0000gn/T/ipykernel_14783/4284695999.py:35: SettingWithCopyWarning: \n",
      "A value is trying to be set on a copy of a slice from a DataFrame.\n",
      "Try using .loc[row_indexer,col_indexer] = value instead\n",
      "\n",
      "See the caveats in the documentation: https://pandas.pydata.org/pandas-docs/stable/user_guide/indexing.html#returning-a-view-versus-a-copy\n",
      "  X_train[np.concatenate((num_cols, poly_cols))] = X_train[np.concatenate((num_cols, poly_cols))].fillna(0)\n",
      "/var/folders/3h/5ch9gkv90lxdnr54086zz5rh0000gn/T/ipykernel_14783/4284695999.py:36: SettingWithCopyWarning: \n",
      "A value is trying to be set on a copy of a slice from a DataFrame.\n",
      "Try using .loc[row_indexer,col_indexer] = value instead\n",
      "\n",
      "See the caveats in the documentation: https://pandas.pydata.org/pandas-docs/stable/user_guide/indexing.html#returning-a-view-versus-a-copy\n",
      "  X_dev[np.concatenate((num_cols, poly_cols))] = X_dev[np.concatenate((num_cols, poly_cols))].fillna(0)\n",
      "/var/folders/3h/5ch9gkv90lxdnr54086zz5rh0000gn/T/ipykernel_14783/4284695999.py:38: SettingWithCopyWarning: \n",
      "A value is trying to be set on a copy of a slice from a DataFrame.\n",
      "Try using .loc[row_indexer,col_indexer] = value instead\n",
      "\n",
      "See the caveats in the documentation: https://pandas.pydata.org/pandas-docs/stable/user_guide/indexing.html#returning-a-view-versus-a-copy\n",
      "  X_train[cat_cols] = X_train[cat_cols].astype(str)\n",
      "/var/folders/3h/5ch9gkv90lxdnr54086zz5rh0000gn/T/ipykernel_14783/4284695999.py:39: SettingWithCopyWarning: \n",
      "A value is trying to be set on a copy of a slice from a DataFrame.\n",
      "Try using .loc[row_indexer,col_indexer] = value instead\n",
      "\n",
      "See the caveats in the documentation: https://pandas.pydata.org/pandas-docs/stable/user_guide/indexing.html#returning-a-view-versus-a-copy\n",
      "  X_dev[cat_cols] = X_dev[cat_cols].astype(str)\n",
      "/Users/nirmitpatel/Documents/Academics/Fall_2023/Machine Learning/HW1/env/lib/python3.10/site-packages/sklearn/linear_model/_ridge.py:200: LinAlgWarning: Ill-conditioned matrix (rcond=1.02875e-21): result may not be accurate.\n",
      "  return linalg.solve(A, Xy, assume_a=\"pos\", overwrite_a=True).T\n"
     ]
    },
    {
     "data": {
      "text/plain": [
       "0.11893659362776476"
      ]
     },
     "execution_count": 43,
     "metadata": {},
     "output_type": "execute_result"
    }
   ],
   "source": [
    "column_names = pd.read_csv(\"hw3-data/my_train.csv\", nrows=1).columns.tolist()\n",
    "\n",
    "train_data = pd.read_csv(\"hw3-data/my_train.csv\", sep=\",\", skiprows=1, names=column_names, engine=\"python\")\n",
    "dev_data = pd.read_csv(\"hw3-data/my_dev.csv\", sep=\",\", skiprows=1, names=column_names, engine=\"python\")\n",
    "test_data = pd.read_csv(\"hw3-data/test.csv\", sep=\",\", skiprows=1, names=column_names[:-1], engine=\"python\")\n",
    "\n",
    "# Separate features and target variable\n",
    "X_train = train_data[column_names[1:-1]]  # Features\n",
    "y_train = np.log(train_data['SalePrice'])  # Target variable\n",
    "\n",
    "X_dev = dev_data[column_names[1:-1]]  # Features\n",
    "y_dev = np.log(dev_data['SalePrice'])  # Target variable\n",
    "\n",
    "# 'OverallQual', 'OverallCond', 'BsmtFullBath', 'BsmtHalfBath', 'FullBath', 'HalfBath', 'BedroomAbvGr', 'KitchenAbvGr', \n",
    "# 'TotRmsAbvGrd', 'Fireplaces', 'GarageCars', 'YearBuilt', 'YearRemodAdd', 'MoSold', 'YrSold'\n",
    "\n",
    "num_cols = [\n",
    "    'LotFrontage', 'LotArea', \n",
    "    'MasVnrArea', 'BsmtFinSF1', 'BsmtFinSF2', 'BsmtUnfSF', 'TotalBsmtSF',\n",
    "    '1stFlrSF', '2ndFlrSF', 'LowQualFinSF', 'GrLivArea', \n",
    "    'GarageYrBlt', 'GarageArea', 'WoodDeckSF', 'OpenPorchSF', 'EnclosedPorch',\n",
    "    '3SsnPorch', 'ScreenPorch', 'PoolArea', 'MiscVal',\n",
    "    'OverallQual', 'OverallCond', 'BsmtFullBath', 'BsmtHalfBath', 'FullBath', 'HalfBath', 'BedroomAbvGr', 'KitchenAbvGr', \n",
    "    'TotRmsAbvGrd', 'Fireplaces', 'GarageCars', 'YearBuilt', 'YearRemodAdd', 'MoSold', 'YrSold'\n",
    "]\n",
    "\n",
    "cat_cols = np.array([c for c in column_names[1:-1] if c not in num_cols])\n",
    "\n",
    "poly_cols = [\n",
    "    'LotArea', 'OverallQual', 'OverallCond', 'TotalBsmtSF'\n",
    "]\n",
    "\n",
    "num_cols = np.array([c for c in num_cols if c not in poly_cols])\n",
    "\n",
    "X_train[np.concatenate((num_cols, poly_cols))] = X_train[np.concatenate((num_cols, poly_cols))].fillna(0)\n",
    "X_dev[np.concatenate((num_cols, poly_cols))] = X_dev[np.concatenate((num_cols, poly_cols))].fillna(0)\n",
    "\n",
    "X_train[cat_cols] = X_train[cat_cols].astype(str)\n",
    "X_dev[cat_cols] = X_dev[cat_cols].astype(str)\n",
    "\n",
    "num_processor = 'passthrough'\n",
    "# num_processor = MinMaxScaler()\n",
    "cat_processor = OneHotEncoder(sparse_output=False, handle_unknown='ignore')\n",
    "\n",
    "preprocessor = ColumnTransformer([\n",
    "    ('cat', cat_processor, cat_cols),\n",
    "    ('num', num_processor, num_cols),\n",
    "    ('poly', num_processor, poly_cols)\n",
    "])\n",
    "\n",
    "# Binarization\n",
    "X_train_binary = preprocessor.fit_transform(X_train)\n",
    "X_dev_binary = preprocessor.transform(X_dev)\n",
    "\n",
    "# method 2: PolynomialFeatures\n",
    "ab = PolynomialFeatures(degree=2)\n",
    "X_train_poly = ab.fit_transform(X_train[poly_cols])\n",
    "X_dev_poly = ab.transform(X_dev[poly_cols])\n",
    "\n",
    "new_x_train_binary = np.concatenate((X_train_binary, X_train_poly), axis=1)\n",
    "new_X_dev_binary = np.concatenate((X_dev_binary, X_dev_poly), axis=1)\n",
    "\n",
    "# model = LinearRegression().fit(new_x_train_binary, y_train)\n",
    "\n",
    "ridge_model = Ridge(alpha=10)\n",
    "ridge_model.fit(new_x_train_binary, y_train)\n",
    "\n",
    "y_pred = ridge_model.predict(new_X_dev_binary)\n",
    "\n",
    "# Make predictions\n",
    "# y_pred = model.predict(new_X_dev_binary)\n",
    "\n",
    "np.sqrt(mean_squared_error(y_dev, y_pred))"
   ]
  },
  {
   "cell_type": "code",
   "execution_count": 44,
   "metadata": {},
   "outputs": [
    {
     "name": "stderr",
     "output_type": "stream",
     "text": [
      "/var/folders/3h/5ch9gkv90lxdnr54086zz5rh0000gn/T/ipykernel_14783/2690897794.py:3: SettingWithCopyWarning: \n",
      "A value is trying to be set on a copy of a slice from a DataFrame.\n",
      "Try using .loc[row_indexer,col_indexer] = value instead\n",
      "\n",
      "See the caveats in the documentation: https://pandas.pydata.org/pandas-docs/stable/user_guide/indexing.html#returning-a-view-versus-a-copy\n",
      "  X_test[np.concatenate((num_cols, poly_cols))] = X_test[np.concatenate((num_cols, poly_cols))].fillna(0)\n",
      "/var/folders/3h/5ch9gkv90lxdnr54086zz5rh0000gn/T/ipykernel_14783/2690897794.py:4: SettingWithCopyWarning: \n",
      "A value is trying to be set on a copy of a slice from a DataFrame.\n",
      "Try using .loc[row_indexer,col_indexer] = value instead\n",
      "\n",
      "See the caveats in the documentation: https://pandas.pydata.org/pandas-docs/stable/user_guide/indexing.html#returning-a-view-versus-a-copy\n",
      "  X_test[cat_cols] = X_test[cat_cols].astype(str)\n"
     ]
    }
   ],
   "source": [
    "X_test = test_data[column_names[1:-1]]  # Features\n",
    "\n",
    "X_test[np.concatenate((num_cols, poly_cols))] = X_test[np.concatenate((num_cols, poly_cols))].fillna(0)\n",
    "X_test[cat_cols] = X_test[cat_cols].astype(str)\n",
    "\n",
    "X_test_binary = preprocessor.transform(X_test)\n",
    "\n",
    "X_test_poly = ab.transform(X_test[poly_cols])\n",
    "\n",
    "new_X_test_binary = np.concatenate((X_test_binary, X_test_poly), axis=1)\n",
    "\n",
    "# Make predictions\n",
    "y_test_pred = np.exp(ridge_model.predict(new_X_test_binary))\n",
    "\n",
    "# Assigning new predicted column to the dataset\n",
    "test_data['SalePrice'] = y_test_pred\n",
    "\n",
    "# Create a new DataFrame with 'ID' and 'SalePrice'\n",
    "result_df = test_data[['Id', 'SalePrice']]\n",
    "\n",
    "# Save the DataFrame to a CSV file with a header\n",
    "result_df.to_csv('smart_ridge_poly.csv', index=False)"
   ]
  },
  {
   "cell_type": "markdown",
   "metadata": {},
   "source": [
    "### My own"
   ]
  },
  {
   "cell_type": "code",
   "execution_count": 66,
   "metadata": {},
   "outputs": [
    {
     "name": "stderr",
     "output_type": "stream",
     "text": [
      "/var/folders/3h/5ch9gkv90lxdnr54086zz5rh0000gn/T/ipykernel_14783/23139004.py:29: SettingWithCopyWarning: \n",
      "A value is trying to be set on a copy of a slice from a DataFrame.\n",
      "Try using .loc[row_indexer,col_indexer] = value instead\n",
      "\n",
      "See the caveats in the documentation: https://pandas.pydata.org/pandas-docs/stable/user_guide/indexing.html#returning-a-view-versus-a-copy\n",
      "  X_train[num_cols] = X_train[num_cols].fillna(0)\n",
      "/var/folders/3h/5ch9gkv90lxdnr54086zz5rh0000gn/T/ipykernel_14783/23139004.py:30: SettingWithCopyWarning: \n",
      "A value is trying to be set on a copy of a slice from a DataFrame.\n",
      "Try using .loc[row_indexer,col_indexer] = value instead\n",
      "\n",
      "See the caveats in the documentation: https://pandas.pydata.org/pandas-docs/stable/user_guide/indexing.html#returning-a-view-versus-a-copy\n",
      "  X_dev[num_cols] = X_dev[num_cols].fillna(0)\n",
      "/var/folders/3h/5ch9gkv90lxdnr54086zz5rh0000gn/T/ipykernel_14783/23139004.py:32: SettingWithCopyWarning: \n",
      "A value is trying to be set on a copy of a slice from a DataFrame.\n",
      "Try using .loc[row_indexer,col_indexer] = value instead\n",
      "\n",
      "See the caveats in the documentation: https://pandas.pydata.org/pandas-docs/stable/user_guide/indexing.html#returning-a-view-versus-a-copy\n",
      "  X_train[cat_cols] = X_train[cat_cols].astype(str)\n",
      "/var/folders/3h/5ch9gkv90lxdnr54086zz5rh0000gn/T/ipykernel_14783/23139004.py:33: SettingWithCopyWarning: \n",
      "A value is trying to be set on a copy of a slice from a DataFrame.\n",
      "Try using .loc[row_indexer,col_indexer] = value instead\n",
      "\n",
      "See the caveats in the documentation: https://pandas.pydata.org/pandas-docs/stable/user_guide/indexing.html#returning-a-view-versus-a-copy\n",
      "  X_dev[cat_cols] = X_dev[cat_cols].astype(str)\n"
     ]
    },
    {
     "data": {
      "text/plain": [
       "0.1368054824037724"
      ]
     },
     "execution_count": 66,
     "metadata": {},
     "output_type": "execute_result"
    }
   ],
   "source": [
    "column_names = pd.read_csv(\"hw3-data/my_train.csv\", nrows=1).columns.tolist()\n",
    "\n",
    "train_data = pd.read_csv(\"hw3-data/my_train.csv\", sep=\",\", skiprows=1, names=column_names, engine=\"python\")\n",
    "dev_data = pd.read_csv(\"hw3-data/my_dev.csv\", sep=\",\", skiprows=1, names=column_names, engine=\"python\")\n",
    "test_data = pd.read_csv(\"hw3-data/test.csv\", sep=\",\", skiprows=1, names=column_names[:-1], engine=\"python\")\n",
    "\n",
    "# Separate features and target variable\n",
    "X_train = train_data[column_names[1:-1]]  # Features\n",
    "y_train = np.log(train_data['SalePrice'])  # Target variable\n",
    "\n",
    "X_dev = dev_data[column_names[1:-1]]  # Features\n",
    "y_dev = np.log(dev_data['SalePrice'])  # Target variable\n",
    "\n",
    "# 'OverallQual', 'OverallCond', 'BsmtFullBath', 'BsmtHalfBath', 'FullBath', 'HalfBath', 'BedroomAbvGr', 'KitchenAbvGr', \n",
    "# 'TotRmsAbvGrd', 'Fireplaces', 'GarageCars', 'YearBuilt', 'YearRemodAdd', 'MoSold', 'YrSold'\n",
    "\n",
    "num_cols = [\n",
    "    'LotFrontage', 'LotArea', \n",
    "    'MasVnrArea', 'BsmtFinSF1', 'BsmtFinSF2', 'BsmtUnfSF', 'TotalBsmtSF',\n",
    "    '1stFlrSF', '2ndFlrSF', 'LowQualFinSF', 'GrLivArea', \n",
    "    'GarageYrBlt', 'GarageArea', 'WoodDeckSF', 'OpenPorchSF', 'EnclosedPorch',\n",
    "    '3SsnPorch', 'ScreenPorch', 'PoolArea', 'MiscVal',\n",
    "    'OverallQual', 'OverallCond', 'BsmtFullBath', 'BsmtHalfBath', 'FullBath', 'HalfBath', 'BedroomAbvGr', 'KitchenAbvGr', \n",
    "    'TotRmsAbvGrd', 'Fireplaces', 'GarageCars', 'YearBuilt', 'YearRemodAdd', 'MoSold', 'YrSold'\n",
    "]\n",
    "\n",
    "cat_cols = np.array([c for c in column_names[1:-1] if c not in num_cols])\n",
    "\n",
    "X_train[num_cols] = X_train[num_cols].fillna(0)\n",
    "X_dev[num_cols] = X_dev[num_cols].fillna(0)\n",
    "\n",
    "X_train[cat_cols] = X_train[cat_cols].astype(str)\n",
    "X_dev[cat_cols] = X_dev[cat_cols].astype(str)\n",
    "\n",
    "num_processor = 'passthrough'\n",
    "cat_processor = OneHotEncoder(sparse_output=False, handle_unknown='ignore')\n",
    "\n",
    "preprocessor = ColumnTransformer([\n",
    "    ('cat', cat_processor, cat_cols),\n",
    "    ('num', num_processor, num_cols),\n",
    "])\n",
    "\n",
    "# Binarization\n",
    "X_train_binary = preprocessor.fit_transform(X_train)\n",
    "X_dev_binary = preprocessor.transform(X_dev)\n",
    "\n",
    "# Random Forest Regressor\n",
    "rf = RandomForestRegressor(n_estimators=100)\n",
    "rf.fit(X_train_binary, y_train)\n",
    "\n",
    "y_pred = rf.predict(X_dev_binary)\n",
    "\n",
    "# Make predictions\n",
    "# y_pred = model.predict(new_X_dev_binary)\n",
    "\n",
    "np.sqrt(mean_squared_error(y_dev, y_pred))"
   ]
  },
  {
   "cell_type": "code",
   "execution_count": 61,
   "metadata": {},
   "outputs": [
    {
     "name": "stderr",
     "output_type": "stream",
     "text": [
      "/var/folders/3h/5ch9gkv90lxdnr54086zz5rh0000gn/T/ipykernel_14783/1343998965.py:3: SettingWithCopyWarning: \n",
      "A value is trying to be set on a copy of a slice from a DataFrame.\n",
      "Try using .loc[row_indexer,col_indexer] = value instead\n",
      "\n",
      "See the caveats in the documentation: https://pandas.pydata.org/pandas-docs/stable/user_guide/indexing.html#returning-a-view-versus-a-copy\n",
      "  X_test[num_cols] = X_test[num_cols].fillna(0)\n",
      "/var/folders/3h/5ch9gkv90lxdnr54086zz5rh0000gn/T/ipykernel_14783/1343998965.py:4: SettingWithCopyWarning: \n",
      "A value is trying to be set on a copy of a slice from a DataFrame.\n",
      "Try using .loc[row_indexer,col_indexer] = value instead\n",
      "\n",
      "See the caveats in the documentation: https://pandas.pydata.org/pandas-docs/stable/user_guide/indexing.html#returning-a-view-versus-a-copy\n",
      "  X_test[cat_cols] = X_test[cat_cols].astype(str)\n"
     ]
    }
   ],
   "source": [
    "X_test = test_data[column_names[1:-1]]  # Features\n",
    "\n",
    "X_test[num_cols] = X_test[num_cols].fillna(0)\n",
    "X_test[cat_cols] = X_test[cat_cols].astype(str)\n",
    "\n",
    "X_test_binary = preprocessor.transform(X_test)\n",
    "\n",
    "# Make predictions\n",
    "y_test_pred = np.exp(rf.predict(X_test_binary))\n",
    "\n",
    "# Assigning new predicted column to the dataset\n",
    "test_data['SalePrice'] = y_test_pred\n",
    "\n",
    "# Create a new DataFrame with 'ID' and 'SalePrice'\n",
    "result_df = test_data[['Id', 'SalePrice']]\n",
    "\n",
    "# Save the DataFrame to a CSV file with a header\n",
    "result_df.to_csv('random_forest.csv', index=False)"
   ]
  },
  {
   "cell_type": "code",
   "execution_count": null,
   "metadata": {},
   "outputs": [],
   "source": []
  }
 ],
 "metadata": {
  "kernelspec": {
   "display_name": "Python 3.10.8 ('env': venv)",
   "language": "python",
   "name": "python3"
  },
  "language_info": {
   "codemirror_mode": {
    "name": "ipython",
    "version": 3
   },
   "file_extension": ".py",
   "mimetype": "text/x-python",
   "name": "python",
   "nbconvert_exporter": "python",
   "pygments_lexer": "ipython3",
   "version": "3.10.8"
  },
  "orig_nbformat": 4,
  "vscode": {
   "interpreter": {
    "hash": "5db6659acf091b31f7860f9fb3b38e6b34716c17d4d68ee2e9e2a20589863307"
   }
  }
 },
 "nbformat": 4,
 "nbformat_minor": 2
}
