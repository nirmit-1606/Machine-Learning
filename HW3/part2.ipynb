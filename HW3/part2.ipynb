{
 "cells": [
  {
   "cell_type": "code",
   "execution_count": 18,
   "metadata": {},
   "outputs": [],
   "source": [
    "import pandas as pd\n",
    "from sklearn.preprocessing import OneHotEncoder\n",
    "from sklearn.compose import ColumnTransformer\n",
    "import numpy as np\n",
    "from sklearn.linear_model import LinearRegression\n",
    "from sklearn.metrics import mean_squared_error\n",
    "from sklearn.linear_model import Ridge"
   ]
  },
  {
   "cell_type": "code",
   "execution_count": 24,
   "metadata": {},
   "outputs": [
    {
     "name": "stderr",
     "output_type": "stream",
     "text": [
      "/var/folders/3h/5ch9gkv90lxdnr54086zz5rh0000gn/T/ipykernel_9725/816013159.py:26: SettingWithCopyWarning: \n",
      "A value is trying to be set on a copy of a slice from a DataFrame.\n",
      "Try using .loc[row_indexer,col_indexer] = value instead\n",
      "\n",
      "See the caveats in the documentation: https://pandas.pydata.org/pandas-docs/stable/user_guide/indexing.html#returning-a-view-versus-a-copy\n",
      "  X_train[num_cols] = X_train[num_cols].fillna(0)\n",
      "/var/folders/3h/5ch9gkv90lxdnr54086zz5rh0000gn/T/ipykernel_9725/816013159.py:27: SettingWithCopyWarning: \n",
      "A value is trying to be set on a copy of a slice from a DataFrame.\n",
      "Try using .loc[row_indexer,col_indexer] = value instead\n",
      "\n",
      "See the caveats in the documentation: https://pandas.pydata.org/pandas-docs/stable/user_guide/indexing.html#returning-a-view-versus-a-copy\n",
      "  X_dev[num_cols] = X_dev[num_cols].fillna(0)\n",
      "/var/folders/3h/5ch9gkv90lxdnr54086zz5rh0000gn/T/ipykernel_9725/816013159.py:29: SettingWithCopyWarning: \n",
      "A value is trying to be set on a copy of a slice from a DataFrame.\n",
      "Try using .loc[row_indexer,col_indexer] = value instead\n",
      "\n",
      "See the caveats in the documentation: https://pandas.pydata.org/pandas-docs/stable/user_guide/indexing.html#returning-a-view-versus-a-copy\n",
      "  X_train[cat_cols] = X_train[cat_cols].astype(str)\n",
      "/var/folders/3h/5ch9gkv90lxdnr54086zz5rh0000gn/T/ipykernel_9725/816013159.py:30: SettingWithCopyWarning: \n",
      "A value is trying to be set on a copy of a slice from a DataFrame.\n",
      "Try using .loc[row_indexer,col_indexer] = value instead\n",
      "\n",
      "See the caveats in the documentation: https://pandas.pydata.org/pandas-docs/stable/user_guide/indexing.html#returning-a-view-versus-a-copy\n",
      "  X_dev[cat_cols] = X_dev[cat_cols].astype(str)\n"
     ]
    },
    {
     "data": {
      "text/plain": [
       "0.15162349569057895"
      ]
     },
     "execution_count": 24,
     "metadata": {},
     "output_type": "execute_result"
    }
   ],
   "source": [
    "column_names = pd.read_csv(\"hw3-data/my_train.csv\", nrows=1).columns.tolist()\n",
    "\n",
    "train_data = pd.read_csv(\"hw3-data/my_train.csv\", sep=\",\", skiprows=1, names=column_names, engine=\"python\")\n",
    "dev_data = pd.read_csv(\"hw3-data/my_dev.csv\", sep=\",\", skiprows=1, names=column_names, engine=\"python\")\n",
    "test_data = pd.read_csv(\"hw3-data/test.csv\", sep=\",\", skiprows=1, names=column_names[:-1], engine=\"python\")\n",
    "\n",
    "# Separate features and target variable\n",
    "X_train = train_data[column_names[1:-1]]  # Features\n",
    "y_train = np.log(train_data['SalePrice'])  # Target variable\n",
    "\n",
    "X_dev = dev_data[column_names[1:-1]]  # Features\n",
    "y_dev = np.log(dev_data['SalePrice'])  # Target variable\n",
    "\n",
    "num_cols = [\n",
    "    'LotFrontage', 'LotArea', 'YearBuilt', 'OverallQual', 'OverallCond',\n",
    "    'YearRemodAdd', 'MasVnrArea', 'BsmtFinSF1', 'BsmtFinSF2', 'BsmtUnfSF', 'TotalBsmtSF',\n",
    "    '1stFlrSF', '2ndFlrSF', 'LowQualFinSF', 'GrLivArea', \n",
    "    'GarageYrBlt', 'GarageArea', 'WoodDeckSF', 'OpenPorchSF', 'EnclosedPorch',\n",
    "    '3SsnPorch', 'ScreenPorch', 'PoolArea', 'MiscVal', \n",
    "    'BsmtFullBath', 'BsmtHalfBath', 'FullBath', 'HalfBath', 'BedroomAbvGr', 'KitchenAbvGr', \n",
    "    'TotRmsAbvGrd', 'Fireplaces', 'GarageCars', 'MoSold', 'YrSold'\n",
    "]\n",
    "\n",
    "cat_cols = np.array([c for c in column_names[1:-1] if c not in num_cols])\n",
    "\n",
    "X_train[num_cols] = X_train[num_cols].fillna(0)\n",
    "X_dev[num_cols] = X_dev[num_cols].fillna(0)\n",
    "\n",
    "X_train[cat_cols] = X_train[cat_cols].astype(str)\n",
    "X_dev[cat_cols] = X_dev[cat_cols].astype(str)\n",
    "\n",
    "encoder = OneHotEncoder(sparse_output=False, handle_unknown='ignore')\n",
    "\n",
    "# Binarization\n",
    "X_train_binary = encoder.fit_transform(X_train)\n",
    "X_dev_binary = encoder.transform(X_dev)\n",
    "\n",
    "# # Train linear regression model\n",
    "model = LinearRegression()\n",
    "model.fit(X_train_binary, y_train)\n",
    "\n",
    "alphas = np.logspace(-6, 6, 13)\n",
    "\n",
    "# Train Ridge regression model\n",
    "\n",
    "# for alpha in alphas:\n",
    "# # alpha = 5.0  # Regularization strength\n",
    "#     ridge_model = Ridge(alpha=alpha)\n",
    "#     ridge_model.fit(X_train_binary, y_train)\n",
    "\n",
    "# Make predictions\n",
    "y_pred = model.predict(X_dev_binary)\n",
    "np.sqrt(mean_squared_error(y_dev, y_pred))\n",
    "\n",
    "    # y_pred = ridge_model.predict(X_dev_binary)\n",
    "\n",
    "    # rmsle = np.sqrt(mean_squared_error(y_dev, y_pred))\n",
    "    # print(f'Alpha: {alpha}, \\tRMSLE on Dev Set: {rmsle}')"
   ]
  },
  {
   "cell_type": "code",
   "execution_count": 13,
   "metadata": {},
   "outputs": [
    {
     "name": "stdout",
     "output_type": "stream",
     "text": [
      "Top 10 Most Positive Features:\n",
      "                   Feature  Coefficient\n",
      "5900            FullBath_3     0.139233\n",
      "1203         OverallQual_9     0.137390\n",
      "1162  Neighborhood_StoneBr     0.125355\n",
      "4712          2ndFlrSF_472     0.113156\n",
      "1202         OverallQual_8     0.106514\n",
      "1398      RoofMatl_WdShngl     0.092514\n",
      "5283        GrLivArea_1192     0.089529\n",
      "1155  Neighborhood_NoRidge     0.087764\n",
      "6060          GarageCars_3     0.086167\n",
      "391           LotArea_8029     0.085358\n",
      "\n",
      "Top 10 Most Negative Features:\n",
      "                Feature  Coefficient\n",
      "15     MSZoning_C (all)    -0.204502\n",
      "5165      GrLivArea_968    -0.126627\n",
      "7040  EnclosedPorch_236    -0.123473\n",
      "1197      OverallQual_3    -0.112828\n",
      "2443     BsmtFinSF2_311    -0.108804\n",
      "420        LotArea_8281    -0.107356\n",
      "1207      OverallCond_3    -0.101119\n",
      "6058       GarageCars_1    -0.094178\n",
      "218        LotArea_5000    -0.091047\n",
      "1195      OverallQual_1    -0.089260\n"
     ]
    }
   ],
   "source": [
    "# Get feature names from one-hot encoder\n",
    "feature_names = encoder.get_feature_names_out()\n",
    "\n",
    "# Create a DataFrame with feature names and their coefficients\n",
    "coef_df = pd.DataFrame({'Feature': feature_names, 'Coefficient': model.coef_})\n",
    "\n",
    "# Sort the DataFrame by coefficients in descending order\n",
    "sorted_coef_df = coef_df.sort_values(by='Coefficient', ascending=False)\n",
    "\n",
    "# Top 10 most positive features\n",
    "top_positive_features = sorted_coef_df.head(10)\n",
    "\n",
    "# Sort the DataFrame by coefficients in ascending order\n",
    "sorted_coef_df = coef_df.sort_values(by='Coefficient', ascending=True)\n",
    "\n",
    "# Top 10 most negative features\n",
    "top_negative_features = sorted_coef_df.head(10)\n",
    "\n",
    "# Print the results\n",
    "print(\"Top 10 Most Positive Features:\")\n",
    "print(top_positive_features)\n",
    "\n",
    "print(\"\\nTop 10 Most Negative Features:\")\n",
    "print(top_negative_features)"
   ]
  },
  {
   "cell_type": "code",
   "execution_count": 14,
   "metadata": {},
   "outputs": [
    {
     "name": "stderr",
     "output_type": "stream",
     "text": [
      "/var/folders/3h/5ch9gkv90lxdnr54086zz5rh0000gn/T/ipykernel_9725/3672169278.py:3: SettingWithCopyWarning: \n",
      "A value is trying to be set on a copy of a slice from a DataFrame.\n",
      "Try using .loc[row_indexer,col_indexer] = value instead\n",
      "\n",
      "See the caveats in the documentation: https://pandas.pydata.org/pandas-docs/stable/user_guide/indexing.html#returning-a-view-versus-a-copy\n",
      "  X_test[num_cols] = X_test[num_cols].fillna(0)\n",
      "/var/folders/3h/5ch9gkv90lxdnr54086zz5rh0000gn/T/ipykernel_9725/3672169278.py:4: SettingWithCopyWarning: \n",
      "A value is trying to be set on a copy of a slice from a DataFrame.\n",
      "Try using .loc[row_indexer,col_indexer] = value instead\n",
      "\n",
      "See the caveats in the documentation: https://pandas.pydata.org/pandas-docs/stable/user_guide/indexing.html#returning-a-view-versus-a-copy\n",
      "  X_test[cat_cols] = X_test[cat_cols].astype(str)\n"
     ]
    }
   ],
   "source": [
    "X_test = test_data[column_names[1:-1]]  # Features\n",
    "\n",
    "X_test[num_cols] = X_test[num_cols].fillna(0)\n",
    "X_test[cat_cols] = X_test[cat_cols].astype(str)\n",
    "\n",
    "X_test_binary = encoder.transform(X_test)\n",
    "\n",
    "# Make predictions\n",
    "y_test_pred = np.exp(model.predict(X_test_binary))\n",
    "\n",
    "# Assigning new predicted column to the dataset\n",
    "test_data['SalePrice'] = y_test_pred\n",
    "\n",
    "# Create a new DataFrame with 'ID' and 'SalePrice'\n",
    "result_df = test_data[['Id', 'SalePrice']]\n",
    "\n",
    "# Save the DataFrame to a CSV file with a header\n",
    "result_df.to_csv('naive_binarization.csv', index=False)"
   ]
  },
  {
   "cell_type": "code",
   "execution_count": 25,
   "metadata": {},
   "outputs": [
    {
     "data": {
      "text/plain": [
       "12.172846747187549"
      ]
     },
     "execution_count": 25,
     "metadata": {},
     "output_type": "execute_result"
    }
   ],
   "source": [
    "model.intercept_"
   ]
  },
  {
   "cell_type": "code",
   "execution_count": 16,
   "metadata": {},
   "outputs": [
    {
     "name": "stdout",
     "output_type": "stream",
     "text": [
      "Total Features:\n",
      "7225\n"
     ]
    }
   ],
   "source": [
    "# Total number of features\n",
    "print(\"Total Features:\")\n",
    "print(len(feature_names))"
   ]
  },
  {
   "cell_type": "code",
   "execution_count": null,
   "metadata": {},
   "outputs": [],
   "source": []
  }
 ],
 "metadata": {
  "kernelspec": {
   "display_name": "Python 3.10.8 ('env': venv)",
   "language": "python",
   "name": "python3"
  },
  "language_info": {
   "codemirror_mode": {
    "name": "ipython",
    "version": 3
   },
   "file_extension": ".py",
   "mimetype": "text/x-python",
   "name": "python",
   "nbconvert_exporter": "python",
   "pygments_lexer": "ipython3",
   "version": "3.10.8"
  },
  "orig_nbformat": 4,
  "vscode": {
   "interpreter": {
    "hash": "5db6659acf091b31f7860f9fb3b38e6b34716c17d4d68ee2e9e2a20589863307"
   }
  }
 },
 "nbformat": 4,
 "nbformat_minor": 2
}
