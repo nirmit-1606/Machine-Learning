{
 "cells": [
  {
   "cell_type": "code",
   "execution_count": 40,
   "metadata": {},
   "outputs": [
    {
     "name": "stdout",
     "output_type": "stream",
     "text": [
      "Training Data\n",
      "3749  <=50K\n",
      "1251  >50K\n",
      "Dev Data\n",
      " 764  <=50K\n",
      " 236  >50K\n"
     ]
    }
   ],
   "source": [
    "print(\"Training Data\")\n",
    "!cat hw1-data/income.train.txt.5k | cut -f 10 -d \",\" | sort | uniq -c\n",
    "print(\"Dev Data\")\n",
    "!cat hw1-data/income.dev.txt | cut -f 10 -d \",\" | sort | uniq -c"
   ]
  },
  {
   "cell_type": "code",
   "execution_count": 41,
   "metadata": {},
   "outputs": [
    {
     "name": "stdout",
     "output_type": "stream",
     "text": [
      "Training Data positive label (>50K): 25.02%\n",
      "Dev Set positive label (>50K): 23.60%\n"
     ]
    }
   ],
   "source": [
    "print(f'Training Data positive label (>50K): {(1251/5000)*100:.2f}%')\n",
    "print(f'Dev Set positive label (>50K): {(236/1000)*100:.2f}%')"
   ]
  },
  {
   "cell_type": "code",
   "execution_count": 3,
   "metadata": {},
   "outputs": [
    {
     "name": "stdout",
     "output_type": "stream",
     "text": [
      "Youngest: 17\n",
      "Oldest: 90\n"
     ]
    }
   ],
   "source": [
    "%%bash\n",
    "echo \"Youngest: $(cat hw1-data/income.train.txt.5k | cut -f 1 -d \",\" | sort | head -1)\"  \n",
    "echo \"Oldest: $(cat hw1-data/income.train.txt.5k | cut -f 1 -d \",\" | sort | tail -1)\""
   ]
  },
  {
   "cell_type": "code",
   "execution_count": 21,
   "metadata": {},
   "outputs": [],
   "source": [
    "import matplotlib.pyplot as plt"
   ]
  },
  {
   "cell_type": "code",
   "execution_count": 22,
   "metadata": {},
   "outputs": [
    {
     "data": {
      "text/html": [
       "<div>\n",
       "<style scoped>\n",
       "    .dataframe tbody tr th:only-of-type {\n",
       "        vertical-align: middle;\n",
       "    }\n",
       "\n",
       "    .dataframe tbody tr th {\n",
       "        vertical-align: top;\n",
       "    }\n",
       "\n",
       "    .dataframe thead th {\n",
       "        text-align: right;\n",
       "    }\n",
       "</style>\n",
       "<table border=\"1\" class=\"dataframe\">\n",
       "  <thead>\n",
       "    <tr style=\"text-align: right;\">\n",
       "      <th></th>\n",
       "      <th>age</th>\n",
       "      <th>sector</th>\n",
       "      <th>edu</th>\n",
       "      <th>marriage</th>\n",
       "      <th>occupation</th>\n",
       "      <th>race</th>\n",
       "      <th>sex</th>\n",
       "      <th>hours</th>\n",
       "      <th>country</th>\n",
       "      <th>target</th>\n",
       "    </tr>\n",
       "  </thead>\n",
       "  <tbody>\n",
       "    <tr>\n",
       "      <th>158</th>\n",
       "      <td>58</td>\n",
       "      <td>State-gov</td>\n",
       "      <td>Doctorate</td>\n",
       "      <td>Married-civ-spouse</td>\n",
       "      <td>Prof-specialty</td>\n",
       "      <td>White</td>\n",
       "      <td>Male</td>\n",
       "      <td>1</td>\n",
       "      <td>United-States</td>\n",
       "      <td>&gt;50K</td>\n",
       "    </tr>\n",
       "    <tr>\n",
       "      <th>130</th>\n",
       "      <td>71</td>\n",
       "      <td>Self-emp-not-inc</td>\n",
       "      <td>Some-college</td>\n",
       "      <td>Separated</td>\n",
       "      <td>Sales</td>\n",
       "      <td>Black</td>\n",
       "      <td>Male</td>\n",
       "      <td>2</td>\n",
       "      <td>United-States</td>\n",
       "      <td>&lt;=50K</td>\n",
       "    </tr>\n",
       "    <tr>\n",
       "      <th>4616</th>\n",
       "      <td>66</td>\n",
       "      <td>Private</td>\n",
       "      <td>HS-grad</td>\n",
       "      <td>Never-married</td>\n",
       "      <td>Other-service</td>\n",
       "      <td>Black</td>\n",
       "      <td>Female</td>\n",
       "      <td>3</td>\n",
       "      <td>United-States</td>\n",
       "      <td>&lt;=50K</td>\n",
       "    </tr>\n",
       "    <tr>\n",
       "      <th>3494</th>\n",
       "      <td>75</td>\n",
       "      <td>Self-emp-not-inc</td>\n",
       "      <td>Doctorate</td>\n",
       "      <td>Married-civ-spouse</td>\n",
       "      <td>Prof-specialty</td>\n",
       "      <td>White</td>\n",
       "      <td>Male</td>\n",
       "      <td>3</td>\n",
       "      <td>United-States</td>\n",
       "      <td>&lt;=50K</td>\n",
       "    </tr>\n",
       "    <tr>\n",
       "      <th>2726</th>\n",
       "      <td>61</td>\n",
       "      <td>Private</td>\n",
       "      <td>HS-grad</td>\n",
       "      <td>Married-civ-spouse</td>\n",
       "      <td>Adm-clerical</td>\n",
       "      <td>White</td>\n",
       "      <td>Male</td>\n",
       "      <td>3</td>\n",
       "      <td>United-States</td>\n",
       "      <td>&lt;=50K</td>\n",
       "    </tr>\n",
       "    <tr>\n",
       "      <th>...</th>\n",
       "      <td>...</td>\n",
       "      <td>...</td>\n",
       "      <td>...</td>\n",
       "      <td>...</td>\n",
       "      <td>...</td>\n",
       "      <td>...</td>\n",
       "      <td>...</td>\n",
       "      <td>...</td>\n",
       "      <td>...</td>\n",
       "      <td>...</td>\n",
       "    </tr>\n",
       "    <tr>\n",
       "      <th>3554</th>\n",
       "      <td>35</td>\n",
       "      <td>Self-emp-not-inc</td>\n",
       "      <td>HS-grad</td>\n",
       "      <td>Married-civ-spouse</td>\n",
       "      <td>Farming-fishing</td>\n",
       "      <td>White</td>\n",
       "      <td>Male</td>\n",
       "      <td>99</td>\n",
       "      <td>United-States</td>\n",
       "      <td>&lt;=50K</td>\n",
       "    </tr>\n",
       "    <tr>\n",
       "      <th>3662</th>\n",
       "      <td>43</td>\n",
       "      <td>Self-emp-inc</td>\n",
       "      <td>Prof-school</td>\n",
       "      <td>Married-civ-spouse</td>\n",
       "      <td>Prof-specialty</td>\n",
       "      <td>Black</td>\n",
       "      <td>Male</td>\n",
       "      <td>99</td>\n",
       "      <td>United-States</td>\n",
       "      <td>&gt;50K</td>\n",
       "    </tr>\n",
       "    <tr>\n",
       "      <th>1562</th>\n",
       "      <td>55</td>\n",
       "      <td>Self-emp-not-inc</td>\n",
       "      <td>Some-college</td>\n",
       "      <td>Married-civ-spouse</td>\n",
       "      <td>Farming-fishing</td>\n",
       "      <td>White</td>\n",
       "      <td>Male</td>\n",
       "      <td>99</td>\n",
       "      <td>United-States</td>\n",
       "      <td>&gt;50K</td>\n",
       "    </tr>\n",
       "    <tr>\n",
       "      <th>4433</th>\n",
       "      <td>43</td>\n",
       "      <td>Private</td>\n",
       "      <td>Assoc-voc</td>\n",
       "      <td>Married-civ-spouse</td>\n",
       "      <td>Craft-repair</td>\n",
       "      <td>White</td>\n",
       "      <td>Male</td>\n",
       "      <td>99</td>\n",
       "      <td>United-States</td>\n",
       "      <td>&lt;=50K</td>\n",
       "    </tr>\n",
       "    <tr>\n",
       "      <th>2956</th>\n",
       "      <td>37</td>\n",
       "      <td>Self-emp-inc</td>\n",
       "      <td>Doctorate</td>\n",
       "      <td>Married-civ-spouse</td>\n",
       "      <td>Prof-specialty</td>\n",
       "      <td>Black</td>\n",
       "      <td>Male</td>\n",
       "      <td>99</td>\n",
       "      <td>United-States</td>\n",
       "      <td>&gt;50K</td>\n",
       "    </tr>\n",
       "  </tbody>\n",
       "</table>\n",
       "<p>5000 rows × 10 columns</p>\n",
       "</div>"
      ],
      "text/plain": [
       "      age             sector            edu             marriage  \\\n",
       "158    58          State-gov      Doctorate   Married-civ-spouse   \n",
       "130    71   Self-emp-not-inc   Some-college            Separated   \n",
       "4616   66            Private        HS-grad        Never-married   \n",
       "3494   75   Self-emp-not-inc      Doctorate   Married-civ-spouse   \n",
       "2726   61            Private        HS-grad   Married-civ-spouse   \n",
       "...   ...                ...            ...                  ...   \n",
       "3554   35   Self-emp-not-inc        HS-grad   Married-civ-spouse   \n",
       "3662   43       Self-emp-inc    Prof-school   Married-civ-spouse   \n",
       "1562   55   Self-emp-not-inc   Some-college   Married-civ-spouse   \n",
       "4433   43            Private      Assoc-voc   Married-civ-spouse   \n",
       "2956   37       Self-emp-inc      Doctorate   Married-civ-spouse   \n",
       "\n",
       "            occupation    race      sex  hours         country  target  \n",
       "158     Prof-specialty   White     Male      1   United-States    >50K  \n",
       "130              Sales   Black     Male      2   United-States   <=50K  \n",
       "4616     Other-service   Black   Female      3   United-States   <=50K  \n",
       "3494    Prof-specialty   White     Male      3   United-States   <=50K  \n",
       "2726      Adm-clerical   White     Male      3   United-States   <=50K  \n",
       "...                ...     ...      ...    ...             ...     ...  \n",
       "3554   Farming-fishing   White     Male     99   United-States   <=50K  \n",
       "3662    Prof-specialty   Black     Male     99   United-States    >50K  \n",
       "1562   Farming-fishing   White     Male     99   United-States    >50K  \n",
       "4433      Craft-repair   White     Male     99   United-States   <=50K  \n",
       "2956    Prof-specialty   Black     Male     99   United-States    >50K  \n",
       "\n",
       "[5000 rows x 10 columns]"
      ]
     },
     "execution_count": 22,
     "metadata": {},
     "output_type": "execute_result"
    }
   ],
   "source": [
    "import pandas as pd\n",
    "train_data = pd.read_csv(\"hw1-data/income.train.txt.5k\", sep=\",\", names=[\"age\", \"sector\", \"edu\", \"marriage\", \"occupation\", \"race\", \"sex\", \"hours\", \"country\", \"target\"], engine=\"python\")\n",
    "# dev_data = pd.read_csv(\"hw1-data/income.dev.txt\", sep=\",\", names=[\"age\", \"sector\", \"edu\", \"marriage\", \"occupation\", \"race\", \"sex\", \"hours\", \"country\", \"target\"], engine=\"python\")\n",
    "\n",
    "train_data.sort_values(by=['hours'])"
   ]
  },
  {
   "cell_type": "code",
   "execution_count": 23,
   "metadata": {},
   "outputs": [
    {
     "name": "stdout",
     "output_type": "stream",
     "text": [
      "Features\n",
      "coln:(1) ->       67\n",
      "coln:(2) ->        7\n",
      "coln:(3) ->       16\n",
      "coln:(4) ->        7\n",
      "coln:(5) ->       14\n",
      "coln:(6) ->        5\n",
      "coln:(7) ->        2\n",
      "coln:(8) ->       73\n",
      "coln:(9) ->       39\n",
      "coln:(10) ->        2\n"
     ]
    }
   ],
   "source": [
    "%%bash\n",
    "echo \"Features\"\n",
    "for i in {1..10}\n",
    "do\n",
    "    echo \"coln:($i) -> $(cat hw1-data/income.train.txt.5k| cut -f $i -d \",\"| sort | uniq | wc -l)\"\n",
    "done\n"
   ]
  },
  {
   "cell_type": "markdown",
   "metadata": {},
   "source": [
    "Number of Features will be: 7 + 16 + 7 + 14 + 5 + 2 + 39 + 2 = 92"
   ]
  },
  {
   "cell_type": "code",
   "execution_count": 24,
   "metadata": {},
   "outputs": [],
   "source": [
    "import pandas as pd\n",
    "train_data = pd.read_csv(\"hw1-data/income.train.txt.5k\", sep=\",\", names=[\"age\", \"sector\", \"edu\", \"marriage\", \"occupation\", \"race\", \"sex\", \"hours\", \"country\", \"target\"], engine=\"python\")\n",
    "dev_data = pd.read_csv(\"hw1-data/income.dev.txt\", sep=\",\", names=[\"age\", \"sector\", \"edu\", \"marriage\", \"occupation\", \"race\", \"sex\", \"hours\", \"country\", \"target\"], engine=\"python\")\n"
   ]
  },
  {
   "cell_type": "code",
   "execution_count": 25,
   "metadata": {},
   "outputs": [],
   "source": [
    "from sklearn.preprocessing import OneHotEncoder\n",
    "encoder = OneHotEncoder(sparse_output=False, handle_unknown='ignore')"
   ]
  },
  {
   "cell_type": "code",
   "execution_count": 26,
   "metadata": {},
   "outputs": [],
   "source": [
    "from sklearn.compose import ColumnTransformer\n",
    "\n",
    "# Binarization\n",
    "train_binary_data = encoder.fit_transform(train_data[[\"age\", \"sector\", \"edu\", \"marriage\", \"occupation\", \"race\", \"sex\", \"hours\", \"country\",]])\n",
    "dev_binary_data = encoder.transform(dev_data[[\"age\", \"sector\", \"edu\", \"marriage\", \"occupation\", \"race\", \"sex\", \"hours\", \"country\",]])\n"
   ]
  },
  {
   "cell_type": "code",
   "execution_count": 27,
   "metadata": {},
   "outputs": [
    {
     "name": "stdout",
     "output_type": "stream",
     "text": [
      "230\n"
     ]
    }
   ],
   "source": [
    "print(train_binary_data.shape[1])"
   ]
  },
  {
   "cell_type": "code",
   "execution_count": 28,
   "metadata": {},
   "outputs": [
    {
     "name": "stdout",
     "output_type": "stream",
     "text": [
      "230\n"
     ]
    }
   ],
   "source": [
    "print(dev_binary_data.shape[1])"
   ]
  },
  {
   "cell_type": "code",
   "execution_count": 29,
   "metadata": {},
   "outputs": [],
   "source": [
    "from sklearn.preprocessing import MinMaxScaler"
   ]
  },
  {
   "cell_type": "code",
   "execution_count": 30,
   "metadata": {},
   "outputs": [],
   "source": [
    "X_train = pd.DataFrame(train_binary_data)\n",
    "X_train.columns = X_train.columns.astype(str)\n",
    "y_train = train_data[\"target\"]"
   ]
  },
  {
   "cell_type": "code",
   "execution_count": 34,
   "metadata": {},
   "outputs": [
    {
     "data": {
      "text/plain": [
       "pandas.core.frame.DataFrame"
      ]
     },
     "execution_count": 34,
     "metadata": {},
     "output_type": "execute_result"
    }
   ],
   "source": [
    "type(X_train)"
   ]
  },
  {
   "cell_type": "code",
   "execution_count": 31,
   "metadata": {},
   "outputs": [],
   "source": [
    "X_dev = pd.DataFrame(dev_binary_data)\n",
    "X_dev.columns = X_dev.columns.astype(str)\n",
    "y_dev = dev_data[\"target\"]"
   ]
  },
  {
   "cell_type": "code",
   "execution_count": 32,
   "metadata": {},
   "outputs": [],
   "source": [
    "from sklearn.neighbors import KNeighborsClassifier\n",
    "from sklearn.metrics import accuracy_score"
   ]
  },
  {
   "cell_type": "code",
   "execution_count": 33,
   "metadata": {},
   "outputs": [
    {
     "name": "stdout",
     "output_type": "stream",
     "text": [
      "k = 1 train_err: 1.52% dev_err: 23.20%\n",
      "k = 3 train_err: 11.50% dev_err: 18.00%\n",
      "k = 5 train_err: 14.38% dev_err: 16.50%\n",
      "k = 7 train_err: 15.48% dev_err: 16.90%\n",
      "k = 9 train_err: 16.56% dev_err: 16.10%\n",
      "k = 11 train_err: 16.94% dev_err: 16.80%\n",
      "k = 13 train_err: 16.72% dev_err: 16.50%\n",
      "k = 15 train_err: 17.02% dev_err: 16.30%\n",
      "k = 17 train_err: 17.02% dev_err: 16.30%\n",
      "k = 19 train_err: 17.10% dev_err: 16.10%\n",
      "k = 21 train_err: 17.24% dev_err: 16.20%\n",
      "k = 23 train_err: 17.54% dev_err: 16.00%\n",
      "k = 25 train_err: 17.44% dev_err: 16.20%\n",
      "k = 27 train_err: 17.46% dev_err: 16.20%\n",
      "k = 29 train_err: 17.76% dev_err: 16.40%\n",
      "k = 31 train_err: 17.72% dev_err: 15.80%\n",
      "k = 33 train_err: 17.58% dev_err: 16.00%\n",
      "k = 35 train_err: 17.70% dev_err: 15.90%\n",
      "k = 37 train_err: 17.72% dev_err: 16.20%\n",
      "k = 39 train_err: 17.38% dev_err: 15.80%\n",
      "k = 41 train_err: 17.68% dev_err: 15.90%\n",
      "k = 43 train_err: 17.54% dev_err: 16.10%\n",
      "k = 45 train_err: 17.52% dev_err: 16.30%\n",
      "k = 47 train_err: 17.82% dev_err: 16.40%\n",
      "k = 49 train_err: 17.86% dev_err: 16.00%\n",
      "k = 51 train_err: 17.74% dev_err: 16.00%\n",
      "k = 53 train_err: 17.92% dev_err: 15.90%\n",
      "k = 55 train_err: 17.84% dev_err: 16.40%\n",
      "k = 57 train_err: 17.84% dev_err: 16.10%\n",
      "k = 59 train_err: 17.88% dev_err: 16.30%\n",
      "k = 61 train_err: 17.78% dev_err: 16.00%\n",
      "k = 63 train_err: 18.30% dev_err: 16.10%\n",
      "k = 65 train_err: 18.22% dev_err: 16.40%\n",
      "k = 67 train_err: 18.02% dev_err: 16.20%\n",
      "k = 69 train_err: 18.06% dev_err: 15.60%\n",
      "k = 71 train_err: 18.00% dev_err: 16.10%\n",
      "k = 73 train_err: 18.18% dev_err: 16.10%\n",
      "k = 75 train_err: 18.36% dev_err: 16.10%\n",
      "k = 77 train_err: 18.02% dev_err: 16.30%\n",
      "k = 79 train_err: 18.28% dev_err: 15.90%\n",
      "k = 81 train_err: 17.92% dev_err: 16.20%\n",
      "k = 83 train_err: 18.16% dev_err: 16.00%\n",
      "k = 85 train_err: 17.98% dev_err: 16.50%\n",
      "k = 87 train_err: 18.12% dev_err: 16.40%\n",
      "k = 89 train_err: 18.04% dev_err: 16.10%\n",
      "k = 91 train_err: 18.08% dev_err: 15.80%\n",
      "k = 93 train_err: 18.10% dev_err: 16.10%\n",
      "k = 95 train_err: 18.18% dev_err: 16.00%\n",
      "k = 97 train_err: 18.40% dev_err: 15.70%\n",
      "k = 99 train_err: 18.12% dev_err: 15.70%\n"
     ]
    }
   ],
   "source": [
    "best_k = 0\n",
    "best_accuracy = 0\n",
    "\n",
    "train_err = []\n",
    "dev_err = []\n",
    "\n",
    "for k in range(1,101,2):\n",
    "\tknn = KNeighborsClassifier(n_neighbors=k)\n",
    "\tknn.fit(X_train, y_train)\n",
    "\n",
    "\ty_pred = knn.predict(X_train)\n",
    "\taccuracy = accuracy_score(y_train, y_pred)\n",
    "\ttrain_err.append((1-accuracy)*100)\n",
    "\n",
    "\ty_pred_dev = knn.predict(X_dev)\n",
    "\taccuracy_dev = accuracy_score(y_dev, y_pred_dev)\n",
    "\tdev_err.append((1-accuracy_dev)*100)\n",
    "\n",
    "\tif accuracy_dev > best_accuracy:\n",
    "\t\tbest_accuracy = accuracy_dev\n",
    "\t\tbest_k = k\n",
    "\n",
    "\tprint(f\"k = {k} train_err: {(1-accuracy) * 100:.2f}% dev_err: {(1-accuracy_dev) * 100:.2f}%\")\n"
   ]
  },
  {
   "cell_type": "code",
   "execution_count": 14,
   "metadata": {},
   "outputs": [
    {
     "name": "stdout",
     "output_type": "stream",
     "text": [
      "best k: 69 best accuracy: 84.40 best dev error:  15.60\n"
     ]
    }
   ],
   "source": [
    "print(f\"best k: {best_k} best accuracy: {(best_accuracy) * 100:.2f} best dev error:  {(1 - best_accuracy) * 100:.2f}\")"
   ]
  },
  {
   "cell_type": "code",
   "execution_count": 15,
   "metadata": {},
   "outputs": [
    {
     "data": {
      "image/png": "[encoded data removed]",
      "text/plain": [
       "<Figure size 640x480 with 1 Axes>"
      ]
     },
     "metadata": {},
     "output_type": "display_data"
    }
   ],
   "source": [
    "plt.plot([k for k in range(1,100,2)], train_err, label = 'train error rate')\n",
    "plt.plot([k for k in range(1,100,2)], dev_err, label = 'dev error rate')\n",
    "plt.xlabel('k values')\n",
    "plt.ylabel('error percentage')\n",
    "plt.legend()\n",
    "plt.show()"
   ]
  },
  {
   "cell_type": "code",
   "execution_count": 16,
   "metadata": {},
   "outputs": [],
   "source": [
    "# num_processor = 'passthrough'\n",
    "num_processor = MinMaxScaler(feature_range=(0, 2))\n",
    "cat_processor = OneHotEncoder(sparse_output=False, handle_unknown='ignore')\n",
    "preprocessor = ColumnTransformer([(\"num\", num_processor, [\"age\", \"hours\"]), (\"cat\", cat_processor, [\"sector\", \"edu\", \"marriage\", \"occupation\", \"race\", \"sex\", \"country\"])])\n"
   ]
  },
  {
   "cell_type": "code",
   "execution_count": 17,
   "metadata": {},
   "outputs": [
    {
     "data": {
      "text/html": [
       "<style>#sk-container-id-1 {color: black;}#sk-container-id-1 pre{padding: 0;}#sk-container-id-1 div.sk-toggleable {background-color: white;}#sk-container-id-1 label.sk-toggleable__label {cursor: pointer;display: block;width: 100%;margin-bottom: 0;padding: 0.3em;box-sizing: border-box;text-align: center;}#sk-container-id-1 label.sk-toggleable__label-arrow:before {content: \"▸\";float: left;margin-right: 0.25em;color: #696969;}#sk-container-id-1 label.sk-toggleable__label-arrow:hover:before {color: black;}#sk-container-id-1 div.sk-estimator:hover label.sk-toggleable__label-arrow:before {color: black;}#sk-container-id-1 div.sk-toggleable__content {max-height: 0;max-width: 0;overflow: hidden;text-align: left;background-color: #f0f8ff;}#sk-container-id-1 div.sk-toggleable__content pre {margin: 0.2em;color: black;border-radius: 0.25em;background-color: #f0f8ff;}#sk-container-id-1 input.sk-toggleable__control:checked~div.sk-toggleable__content {max-height: 200px;max-width: 100%;overflow: auto;}#sk-container-id-1 input.sk-toggleable__control:checked~label.sk-toggleable__label-arrow:before {content: \"▾\";}#sk-container-id-1 div.sk-estimator input.sk-toggleable__control:checked~label.sk-toggleable__label {background-color: #d4ebff;}#sk-container-id-1 div.sk-label input.sk-toggleable__control:checked~label.sk-toggleable__label {background-color: #d4ebff;}#sk-container-id-1 input.sk-hidden--visually {border: 0;clip: rect(1px 1px 1px 1px);clip: rect(1px, 1px, 1px, 1px);height: 1px;margin: -1px;overflow: hidden;padding: 0;position: absolute;width: 1px;}#sk-container-id-1 div.sk-estimator {font-family: monospace;background-color: #f0f8ff;border: 1px dotted black;border-radius: 0.25em;box-sizing: border-box;margin-bottom: 0.5em;}#sk-container-id-1 div.sk-estimator:hover {background-color: #d4ebff;}#sk-container-id-1 div.sk-parallel-item::after {content: \"\";width: 100%;border-bottom: 1px solid gray;flex-grow: 1;}#sk-container-id-1 div.sk-label:hover label.sk-toggleable__label {background-color: #d4ebff;}#sk-container-id-1 div.sk-serial::before {content: \"\";position: absolute;border-left: 1px solid gray;box-sizing: border-box;top: 0;bottom: 0;left: 50%;z-index: 0;}#sk-container-id-1 div.sk-serial {display: flex;flex-direction: column;align-items: center;background-color: white;padding-right: 0.2em;padding-left: 0.2em;position: relative;}#sk-container-id-1 div.sk-item {position: relative;z-index: 1;}#sk-container-id-1 div.sk-parallel {display: flex;align-items: stretch;justify-content: center;background-color: white;position: relative;}#sk-container-id-1 div.sk-item::before, #sk-container-id-1 div.sk-parallel-item::before {content: \"\";position: absolute;border-left: 1px solid gray;box-sizing: border-box;top: 0;bottom: 0;left: 50%;z-index: -1;}#sk-container-id-1 div.sk-parallel-item {display: flex;flex-direction: column;z-index: 1;position: relative;background-color: white;}#sk-container-id-1 div.sk-parallel-item:first-child::after {align-self: flex-end;width: 50%;}#sk-container-id-1 div.sk-parallel-item:last-child::after {align-self: flex-start;width: 50%;}#sk-container-id-1 div.sk-parallel-item:only-child::after {width: 0;}#sk-container-id-1 div.sk-dashed-wrapped {border: 1px dashed gray;margin: 0 0.4em 0.5em 0.4em;box-sizing: border-box;padding-bottom: 0.4em;background-color: white;}#sk-container-id-1 div.sk-label label {font-family: monospace;font-weight: bold;display: inline-block;line-height: 1.2em;}#sk-container-id-1 div.sk-label-container {text-align: center;}#sk-container-id-1 div.sk-container {/* jupyter's `normalize.less` sets `[hidden] { display: none; }` but bootstrap.min.css set `[hidden] { display: none !important; }` so we also need the `!important` here to be able to override the default hidden behavior on the sphinx rendered scikit-learn.org. See: https://github.com/scikit-learn/scikit-learn/issues/21755 */display: inline-block !important;position: relative;}#sk-container-id-1 div.sk-text-repr-fallback {display: none;}</style><div id=\"sk-container-id-1\" class=\"sk-top-container\"><div class=\"sk-text-repr-fallback\"><pre>ColumnTransformer(transformers=[(&#x27;num&#x27;, MinMaxScaler(feature_range=(0, 2)),\n",
       "                                 [&#x27;age&#x27;, &#x27;hours&#x27;]),\n",
       "                                (&#x27;cat&#x27;,\n",
       "                                 OneHotEncoder(handle_unknown=&#x27;ignore&#x27;,\n",
       "                                               sparse_output=False),\n",
       "                                 [&#x27;sector&#x27;, &#x27;edu&#x27;, &#x27;marriage&#x27;, &#x27;occupation&#x27;,\n",
       "                                  &#x27;race&#x27;, &#x27;sex&#x27;, &#x27;country&#x27;])])</pre><b>In a Jupyter environment, please rerun this cell to show the HTML representation or trust the notebook. <br />On GitHub, the HTML representation is unable to render, please try loading this page with nbviewer.org.</b></div><div class=\"sk-container\" hidden><div class=\"sk-item sk-dashed-wrapped\"><div class=\"sk-label-container\"><div class=\"sk-label sk-toggleable\"><input class=\"sk-toggleable__control sk-hidden--visually\" id=\"sk-estimator-id-1\" type=\"checkbox\" ><label for=\"sk-estimator-id-1\" class=\"sk-toggleable__label sk-toggleable__label-arrow\">ColumnTransformer</label><div class=\"sk-toggleable__content\"><pre>ColumnTransformer(transformers=[(&#x27;num&#x27;, MinMaxScaler(feature_range=(0, 2)),\n",
       "                                 [&#x27;age&#x27;, &#x27;hours&#x27;]),\n",
       "                                (&#x27;cat&#x27;,\n",
       "                                 OneHotEncoder(handle_unknown=&#x27;ignore&#x27;,\n",
       "                                               sparse_output=False),\n",
       "                                 [&#x27;sector&#x27;, &#x27;edu&#x27;, &#x27;marriage&#x27;, &#x27;occupation&#x27;,\n",
       "                                  &#x27;race&#x27;, &#x27;sex&#x27;, &#x27;country&#x27;])])</pre></div></div></div><div class=\"sk-parallel\"><div class=\"sk-parallel-item\"><div class=\"sk-item\"><div class=\"sk-label-container\"><div class=\"sk-label sk-toggleable\"><input class=\"sk-toggleable__control sk-hidden--visually\" id=\"sk-estimator-id-2\" type=\"checkbox\" ><label for=\"sk-estimator-id-2\" class=\"sk-toggleable__label sk-toggleable__label-arrow\">num</label><div class=\"sk-toggleable__content\"><pre>[&#x27;age&#x27;, &#x27;hours&#x27;]</pre></div></div></div><div class=\"sk-serial\"><div class=\"sk-item\"><div class=\"sk-estimator sk-toggleable\"><input class=\"sk-toggleable__control sk-hidden--visually\" id=\"sk-estimator-id-3\" type=\"checkbox\" ><label for=\"sk-estimator-id-3\" class=\"sk-toggleable__label sk-toggleable__label-arrow\">MinMaxScaler</label><div class=\"sk-toggleable__content\"><pre>MinMaxScaler(feature_range=(0, 2))</pre></div></div></div></div></div></div><div class=\"sk-parallel-item\"><div class=\"sk-item\"><div class=\"sk-label-container\"><div class=\"sk-label sk-toggleable\"><input class=\"sk-toggleable__control sk-hidden--visually\" id=\"sk-estimator-id-4\" type=\"checkbox\" ><label for=\"sk-estimator-id-4\" class=\"sk-toggleable__label sk-toggleable__label-arrow\">cat</label><div class=\"sk-toggleable__content\"><pre>[&#x27;sector&#x27;, &#x27;edu&#x27;, &#x27;marriage&#x27;, &#x27;occupation&#x27;, &#x27;race&#x27;, &#x27;sex&#x27;, &#x27;country&#x27;]</pre></div></div></div><div class=\"sk-serial\"><div class=\"sk-item\"><div class=\"sk-estimator sk-toggleable\"><input class=\"sk-toggleable__control sk-hidden--visually\" id=\"sk-estimator-id-5\" type=\"checkbox\" ><label for=\"sk-estimator-id-5\" class=\"sk-toggleable__label sk-toggleable__label-arrow\">OneHotEncoder</label><div class=\"sk-toggleable__content\"><pre>OneHotEncoder(handle_unknown=&#x27;ignore&#x27;, sparse_output=False)</pre></div></div></div></div></div></div></div></div></div></div>"
      ],
      "text/plain": [
       "ColumnTransformer(transformers=[('num', MinMaxScaler(feature_range=(0, 2)),\n",
       "                                 ['age', 'hours']),\n",
       "                                ('cat',\n",
       "                                 OneHotEncoder(handle_unknown='ignore',\n",
       "                                               sparse_output=False),\n",
       "                                 ['sector', 'edu', 'marriage', 'occupation',\n",
       "                                  'race', 'sex', 'country'])])"
      ]
     },
     "execution_count": 17,
     "metadata": {},
     "output_type": "execute_result"
    }
   ],
   "source": [
    "preprocessor.fit(train_data)"
   ]
  },
  {
   "cell_type": "code",
   "execution_count": 18,
   "metadata": {},
   "outputs": [],
   "source": [
    "train_processed_data = preprocessor.transform(train_data)\n",
    "dev_processed_data = preprocessor.transform(dev_data)"
   ]
  },
  {
   "cell_type": "code",
   "execution_count": 19,
   "metadata": {},
   "outputs": [],
   "source": [
    "X_train = train_processed_data \n",
    "y_train = train_data[\"target\"]\n",
    "\n",
    "X_dev = dev_processed_data\n",
    "y_dev = dev_data[\"target\"]"
   ]
  },
  {
   "cell_type": "code",
   "execution_count": 20,
   "metadata": {},
   "outputs": [
    {
     "data": {
      "text/plain": [
       "array([[0.90410959, 0.24489796, 0.        , ..., 1.        , 0.        ,\n",
       "        0.        ],\n",
       "       [0.57534247, 0.79591837, 0.        , ..., 1.        , 0.        ,\n",
       "        0.        ],\n",
       "       [0.98630137, 0.79591837, 0.        , ..., 1.        , 0.        ,\n",
       "        0.        ],\n",
       "       ...,\n",
       "       [1.20547945, 0.08163265, 0.        , ..., 1.        , 0.        ,\n",
       "        0.        ],\n",
       "       [0.68493151, 0.79591837, 0.        , ..., 1.        , 0.        ,\n",
       "        0.        ],\n",
       "       [0.10958904, 0.79591837, 0.        , ..., 1.        , 0.        ,\n",
       "        0.        ]])"
      ]
     },
     "execution_count": 20,
     "metadata": {},
     "output_type": "execute_result"
    }
   ],
   "source": [
    "X_train"
   ]
  },
  {
   "cell_type": "code",
   "execution_count": 109,
   "metadata": {},
   "outputs": [
    {
     "name": "stdout",
     "output_type": "stream",
     "text": [
      "k = 1 train_err: 1.52% dev_err: 23.70%\n",
      "k = 3 train_err: 11.52% dev_err: 19.20%\n",
      "k = 5 train_err: 13.76% dev_err: 18.30%\n",
      "k = 7 train_err: 14.10% dev_err: 16.80%\n",
      "k = 9 train_err: 15.52% dev_err: 15.90%\n",
      "k = 11 train_err: 16.34% dev_err: 16.30%\n",
      "k = 13 train_err: 16.34% dev_err: 16.40%\n",
      "k = 15 train_err: 16.42% dev_err: 15.70%\n",
      "k = 17 train_err: 16.60% dev_err: 16.10%\n",
      "k = 19 train_err: 16.90% dev_err: 16.40%\n",
      "k = 21 train_err: 17.02% dev_err: 15.90%\n",
      "k = 23 train_err: 17.08% dev_err: 15.40%\n",
      "k = 25 train_err: 16.96% dev_err: 15.00%\n",
      "k = 27 train_err: 16.92% dev_err: 15.60%\n",
      "k = 29 train_err: 17.00% dev_err: 15.20%\n",
      "k = 31 train_err: 17.06% dev_err: 15.20%\n",
      "k = 33 train_err: 17.12% dev_err: 15.50%\n",
      "k = 35 train_err: 17.22% dev_err: 15.00%\n",
      "k = 37 train_err: 17.20% dev_err: 14.80%\n",
      "k = 39 train_err: 17.26% dev_err: 14.70%\n",
      "k = 41 train_err: 17.44% dev_err: 14.30%\n",
      "k = 43 train_err: 17.40% dev_err: 14.90%\n",
      "k = 45 train_err: 17.60% dev_err: 15.00%\n",
      "k = 47 train_err: 17.86% dev_err: 15.30%\n",
      "k = 49 train_err: 18.00% dev_err: 15.10%\n",
      "k = 51 train_err: 18.02% dev_err: 15.50%\n",
      "k = 53 train_err: 17.98% dev_err: 15.40%\n",
      "k = 55 train_err: 17.96% dev_err: 15.40%\n",
      "k = 57 train_err: 18.08% dev_err: 15.60%\n",
      "k = 59 train_err: 18.10% dev_err: 15.20%\n",
      "k = 61 train_err: 17.94% dev_err: 15.70%\n",
      "k = 63 train_err: 18.06% dev_err: 15.40%\n",
      "k = 65 train_err: 17.82% dev_err: 15.40%\n",
      "k = 67 train_err: 17.78% dev_err: 15.30%\n",
      "k = 69 train_err: 17.90% dev_err: 15.10%\n",
      "k = 71 train_err: 17.86% dev_err: 15.30%\n",
      "k = 73 train_err: 17.80% dev_err: 14.90%\n",
      "k = 75 train_err: 17.84% dev_err: 14.80%\n",
      "k = 77 train_err: 17.88% dev_err: 14.90%\n",
      "k = 79 train_err: 17.86% dev_err: 15.10%\n",
      "k = 81 train_err: 17.74% dev_err: 15.10%\n",
      "k = 83 train_err: 17.72% dev_err: 15.40%\n",
      "k = 85 train_err: 17.70% dev_err: 15.30%\n",
      "k = 87 train_err: 17.76% dev_err: 15.50%\n",
      "k = 89 train_err: 17.88% dev_err: 15.20%\n",
      "k = 91 train_err: 17.88% dev_err: 15.40%\n",
      "k = 93 train_err: 17.92% dev_err: 15.20%\n",
      "k = 95 train_err: 17.78% dev_err: 15.40%\n",
      "k = 97 train_err: 17.86% dev_err: 15.70%\n",
      "k = 99 train_err: 17.80% dev_err: 15.80%\n"
     ]
    }
   ],
   "source": [
    "best_k = 0\n",
    "best_accuracy = 0\n",
    "\n",
    "train_err = []\n",
    "dev_err = []\n",
    "\n",
    "for k in range(1,101,2):\n",
    "\tknn = KNeighborsClassifier(n_neighbors=k)\n",
    "\tknn.fit(X_train, y_train)\n",
    "\n",
    "\ty_pred = knn.predict(X_train)\n",
    "\taccuracy = accuracy_score(y_train, y_pred)\n",
    "\ttrain_err.append((1-accuracy)*100)\n",
    "\n",
    "\ty_pred_dev = knn.predict(X_dev)\n",
    "\taccuracy_dev = accuracy_score(y_dev, y_pred_dev)\n",
    "\tdev_err.append((1-accuracy_dev)*100)\n",
    "\n",
    "\tif accuracy_dev > best_accuracy:\n",
    "\t\tbest_accuracy = accuracy_dev\n",
    "\t\tbest_k = k\n",
    "\n",
    "\tprint(f\"k = {k} train_err: {(1-accuracy) * 100:.2f}% dev_err: {(1-accuracy_dev) * 100:.2f}%\")\n"
   ]
  },
  {
   "cell_type": "code",
   "execution_count": 110,
   "metadata": {},
   "outputs": [
    {
     "data": {
      "image/png": "[encoded data removed]",
      "text/plain": [
       "<Figure size 640x480 with 1 Axes>"
      ]
     },
     "metadata": {},
     "output_type": "display_data"
    }
   ],
   "source": [
    "plt.plot([k for k in range(1,100,2)], train_err, label = 'train error rate')\n",
    "plt.plot([k for k in range(1,100,2)], dev_err, label = 'dev error rate')\n",
    "plt.xlabel('k values')\n",
    "plt.ylabel('error percentage')\n",
    "plt.legend()\n",
    "plt.show()"
   ]
  },
  {
   "cell_type": "code",
   "execution_count": 111,
   "metadata": {},
   "outputs": [
    {
     "name": "stdout",
     "output_type": "stream",
     "text": [
      "best k: 41 best accuracy: 85.70 best dev error: 14.30\n"
     ]
    }
   ],
   "source": [
    "print(f\"best k: {best_k} best accuracy: {(best_accuracy) * 100:.2f} best dev error: {(1 - best_accuracy) * 100:.2f}\")"
   ]
  },
  {
   "cell_type": "code",
   "execution_count": 112,
   "metadata": {},
   "outputs": [
    {
     "name": "stdout",
     "output_type": "stream",
     "text": [
      "Euclidean:\n",
      "distance = [[0.33441929 1.41527469 1.41674697]], Index = [[4872 4787 2591]]\n"
     ]
    }
   ],
   "source": [
    "validate_knn = KNeighborsClassifier(n_neighbors=3)\n",
    "validate_knn.fit(X_train, y_train)\n",
    "dist, idx = validate_knn.kneighbors(X_dev[0].reshape(1, -1))\n",
    "\n",
    "print(f\"Euclidean:\\ndistance = {dist}, Index = {idx}\")"
   ]
  },
  {
   "cell_type": "code",
   "execution_count": 113,
   "metadata": {},
   "outputs": [
    {
     "name": "stdout",
     "output_type": "stream",
     "text": [
      "Manhattan:\n",
      "distance = [[0.38999161 2.05479452 2.10204082]], Index = [[4872 4787 1084]]\n"
     ]
    }
   ],
   "source": [
    "validate_knn = KNeighborsClassifier(n_neighbors=3, metric=\"manhattan\")\n",
    "validate_knn.fit(X_train, y_train)\n",
    "dist, idx = validate_knn.kneighbors(X_dev[0].reshape(1, -1))\n",
    "\n",
    "print(f\"Manhattan:\\ndistance = {dist}, Index = {idx}\")"
   ]
  },
  {
   "cell_type": "code",
   "execution_count": 114,
   "metadata": {},
   "outputs": [],
   "source": [
    "import numpy as np"
   ]
  },
  {
   "cell_type": "code",
   "execution_count": 115,
   "metadata": {},
   "outputs": [],
   "source": [
    "def eu_dist(v1, v2):\n",
    "    return np.sqrt(np.sum((v1 - v2) ** 2))\n",
    "\n",
    "def man_dist(v1, v2):\n",
    "    return np.sum(np.abs(v1 - v2))\n",
    "\n",
    "def closest_n(dists, n=3):\n",
    "    return sorted(dists, key=lambda k: k[1])[:n]"
   ]
  },
  {
   "cell_type": "code",
   "execution_count": 116,
   "metadata": {},
   "outputs": [],
   "source": [
    "def pair_wise_dists(vector, data, measure=\"eu\"):\n",
    "    \n",
    "    all_dists = []\n",
    "    for pid, pair_vector in enumerate(data):\n",
    "        \n",
    "        if measure == \"eu\":\n",
    "            dist = eu_dist(vector, pair_vector)\n",
    "        else:\n",
    "            dist = man_dist(vector, pair_vector)    \n",
    "            \n",
    "        all_dists.append([pid, dist])\n",
    "        \n",
    "    return all_dists"
   ]
  },
  {
   "cell_type": "code",
   "execution_count": 117,
   "metadata": {},
   "outputs": [
    {
     "name": "stdout",
     "output_type": "stream",
     "text": [
      "[[4872, 0.3344192869821078], [4787, 1.4152746869361013], [2591, 1.4167469717499104]]\n",
      "[[4872, 0.38999161308358965], [4787, 2.054794520547945], [1084, 2.1020408163265305]]\n"
     ]
    }
   ],
   "source": [
    "eu_dists = pair_wise_dists(X_dev[0].reshape(1, -1), data=X_train, measure=\"eu\")\n",
    "man_dists = pair_wise_dists(X_dev[0].reshape(1, -1), data=X_train, measure=\"man\")\n",
    "\n",
    "print(closest_n(eu_dists))\n",
    "print(closest_n(man_dists))"
   ]
  },
  {
   "cell_type": "code",
   "execution_count": 118,
   "metadata": {},
   "outputs": [],
   "source": [
    "def myKnnPredict(k, x_train, y_train, x_test, order=2):\n",
    "    y_pred = []\n",
    "    for x in x_test:\n",
    "        distances = np.linalg.norm(x_train - x, ord=order, axis=1)\n",
    "        k_indices = np.argpartition(distances, k)[:k]\n",
    "        k_nearest_labels = y_train[k_indices]\n",
    "        most_common = np.bincount(k_nearest_labels).argmax()\n",
    "        y_pred.append(most_common)\n",
    "    return np.array(y_pred)"
   ]
  },
  {
   "cell_type": "code",
   "execution_count": 119,
   "metadata": {},
   "outputs": [],
   "source": [
    "X_train = train_processed_data \n",
    "y_train = train_data['target'].map({' <=50K': 0, ' >50K': 1})\n",
    "\n",
    "X_dev = dev_processed_data\n",
    "y_dev = dev_data['target'].map({' <=50K': 0, ' >50K': 1})"
   ]
  },
  {
   "cell_type": "code",
   "execution_count": 123,
   "metadata": {},
   "outputs": [
    {
     "name": "stdout",
     "output_type": "stream",
     "text": [
      "k = 99 train_err: 17.82% dev_err: 15.60%\n"
     ]
    }
   ],
   "source": [
    "#for 99th\n",
    "y_pred = myKnnPredict(99, X_train, y_train, X_train)\n",
    "accuracy = accuracy_score(y_train, y_pred)\n",
    "\n",
    "y_pred_dev = myKnnPredict(99, X_train, y_train, X_dev)\n",
    "accuracy_dev = accuracy_score(y_dev, y_pred_dev)\n",
    "\n",
    "print(f\"k = 99 train_err: {(1-accuracy) * 100:.2f}% dev_err: {(1-accuracy_dev) * 100:.2f}%\")\n"
   ]
  },
  {
   "cell_type": "code",
   "execution_count": 120,
   "metadata": {},
   "outputs": [],
   "source": [
    "best_man_k = 0\n",
    "best_eu_k = 0\n",
    "\n",
    "best_man_accuracy = 0\n",
    "best_eu_accuracy = 0\n",
    "\n",
    "man_dev_err = []\n",
    "eu_dev_err = []\n",
    "\n",
    "for k in range(1, 101, 2):\n",
    "    # y_pred = myKnnPredict(k, X_train, y_train, X_train)\n",
    "    # accuracy = accuracy_score(y_train, y_pred)\n",
    "\n",
    "    #Manhattan\n",
    "    man_y_pred_dev = myKnnPredict(k, X_train, y_train, X_dev, order=1)\n",
    "    man_accuracy_dev = accuracy_score(y_dev, man_y_pred_dev)\n",
    "    man_dev_err.append((1-man_accuracy_dev)*100)\n",
    "\n",
    "    #Euclidean\n",
    "    eu_y_pred_dev = myKnnPredict(k, X_train, y_train, X_dev, order=2)\n",
    "    eu_accuracy_dev = accuracy_score(y_dev, eu_y_pred_dev)\n",
    "    eu_dev_err.append((1-eu_accuracy_dev)*100)\n",
    "\n",
    "    if man_accuracy_dev > best_man_accuracy:\n",
    "        best_man_accuracy = man_accuracy_dev\n",
    "        best_man_k = k\n",
    "    \n",
    "    if eu_accuracy_dev > best_eu_accuracy:\n",
    "        best_eu_accuracy = eu_accuracy_dev\n",
    "        best_eu_k = k\n",
    "\n",
    "    # print(f\"k = {k} man_dev_err: {(1-man_accuracy_dev) * 100:.2f}% eu_dev_err: {(1-eu_accuracy_dev) * 100:.2f}%\")\n"
   ]
  },
  {
   "cell_type": "code",
   "execution_count": 121,
   "metadata": {},
   "outputs": [
    {
     "name": "stdout",
     "output_type": "stream",
     "text": [
      "Manhattan:\n",
      "best k: 41 best accuracy: 85.90\n",
      "Euclidean:\n",
      "best k: 41 best accuracy: 85.60\n"
     ]
    }
   ],
   "source": [
    "print(f\"Manhattan:\\nbest k: {best_man_k} best accuracy: {(best_man_accuracy) * 100:.2f}\")\n",
    "print(f\"Euclidean:\\nbest k: {best_eu_k} best accuracy: {(best_eu_accuracy) * 100:.2f}\")"
   ]
  },
  {
   "cell_type": "code",
   "execution_count": 122,
   "metadata": {},
   "outputs": [
    {
     "data": {
      "image/png": "[encoded data removed]",
      "text/plain": [
       "<Figure size 640x480 with 1 Axes>"
      ]
     },
     "metadata": {},
     "output_type": "display_data"
    }
   ],
   "source": [
    "plt.plot([k for k in range(1,100,2)], man_dev_err, label = 'Manhattan Error rate')\n",
    "plt.plot([k for k in range(1,100,2)], eu_dev_err, label = 'Euclidean Error rate')\n",
    "plt.xlabel('k values')\n",
    "plt.ylabel('error percentage')\n",
    "plt.legend()\n",
    "plt.show()"
   ]
  },
  {
   "cell_type": "code",
   "execution_count": 124,
   "metadata": {},
   "outputs": [
    {
     "name": "stdout",
     "output_type": "stream",
     "text": [
      "k = 41 dev_error: 14.10% pos_ratio: 20.50%\n"
     ]
    }
   ],
   "source": [
    "#for 41th\n",
    "y_pred = myKnnPredict(41, X_train, y_train, X_dev, order=1)\n",
    "accuracy = accuracy_score(y_dev, y_pred)\n",
    "\n",
    "pos_ratio = np.sum(y_pred)/len(y_pred)\n",
    "\n",
    "print(f\"k = 41 dev_error: {(1-accuracy) * 100:.2f}% pos_ratio: {(pos_ratio) * 100:.2f}%\")"
   ]
  },
  {
   "cell_type": "code",
   "execution_count": 125,
   "metadata": {},
   "outputs": [],
   "source": [
    "train_data = pd.read_csv(\"hw1-data/income.train.txt.5k\", sep=\",\", names=[\"age\", \"sector\", \"edu\", \"marriage\", \"occupation\", \"race\", \"sex\", \"hours\", \"country\", \"target\"], engine=\"python\")\n",
    "blind_data = pd.read_csv(\"hw1-data/income.test.blind\", sep=\",\", names=[\"age\", \"sector\", \"edu\", \"marriage\", \"occupation\", \"race\", \"sex\", \"hours\", \"country\"], engine=\"python\")\n"
   ]
  },
  {
   "cell_type": "code",
   "execution_count": 126,
   "metadata": {},
   "outputs": [],
   "source": [
    "num_processor = MinMaxScaler(feature_range=(0, 2))\n",
    "cat_processor = OneHotEncoder(sparse_output=False, handle_unknown='ignore')\n",
    "preprocessor = ColumnTransformer([(\"num\", num_processor, [\"age\", \"hours\"]), (\"cat\", cat_processor, [\"sector\", \"edu\", \"marriage\", \"occupation\", \"race\", \"sex\", \"country\"])])\n"
   ]
  },
  {
   "cell_type": "code",
   "execution_count": 127,
   "metadata": {},
   "outputs": [],
   "source": [
    "preprocessor.fit(train_data)\n",
    "\n",
    "train_processed_data = preprocessor.transform(train_data)\n",
    "blind_processed_data = preprocessor.transform(blind_data)"
   ]
  },
  {
   "cell_type": "code",
   "execution_count": 128,
   "metadata": {},
   "outputs": [],
   "source": [
    "X_train = train_processed_data \n",
    "y_train = train_data['target'].map({' <=50K': 0, ' >50K': 1})\n",
    "\n",
    "X_blind = blind_processed_data"
   ]
  },
  {
   "cell_type": "code",
   "execution_count": 131,
   "metadata": {},
   "outputs": [
    {
     "data": {
      "text/plain": [
       "0.208"
      ]
     },
     "execution_count": 131,
     "metadata": {},
     "output_type": "execute_result"
    }
   ],
   "source": [
    "# for k = 41\n",
    "y_pred = myKnnPredict(41, X_train, y_train, X_blind, order=1)\n",
    "# print(y_pred)\n",
    "pos_ratio = np.sum(y_pred)/len(y_pred)\n",
    "pos_ratio\n"
   ]
  },
  {
   "cell_type": "code",
   "execution_count": 132,
   "metadata": {},
   "outputs": [],
   "source": [
    "target_values = []\n",
    "for t in y_pred.tolist():\n",
    "    if t == 1:\n",
    "        target_values.append('>50K')\n",
    "    else:\n",
    "        target_values.append('<=50K')"
   ]
  },
  {
   "cell_type": "code",
   "execution_count": 136,
   "metadata": {},
   "outputs": [],
   "source": [
    "blind_data['target'] = target_values\n",
    "blind_data.to_csv('hw1-data/income.test.predicted', sep=',', index=False, header=False)"
   ]
  },
  {
   "cell_type": "code",
   "execution_count": null,
   "metadata": {},
   "outputs": [],
   "source": []
  }
 ],
 "metadata": {
  "kernelspec": {
   "display_name": "Python 3.10.8 ('env': venv)",
   "language": "python",
   "name": "python3"
  },
  "language_info": {
   "codemirror_mode": {
    "name": "ipython",
    "version": 3
   },
   "file_extension": ".py",
   "mimetype": "text/x-python",
   "name": "python",
   "nbconvert_exporter": "python",
   "pygments_lexer": "ipython3",
   "version": "3.10.8"
  },
  "orig_nbformat": 4,
  "vscode": {
   "interpreter": {
    "hash": "5db6659acf091b31f7860f9fb3b38e6b34716c17d4d68ee2e9e2a20589863307"
   }
  }
 },
 "nbformat": 4,
 "nbformat_minor": 2
}
