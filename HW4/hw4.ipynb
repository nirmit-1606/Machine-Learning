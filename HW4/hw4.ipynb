{
 "cells": [
  {
   "cell_type": "code",
   "execution_count": 2,
   "metadata": {},
   "outputs": [],
   "source": [
    "from gensim.models import KeyedVectors\n",
    "wv = KeyedVectors.load('embs_train.kv')"
   ]
  },
  {
   "cell_type": "code",
   "execution_count": 3,
   "metadata": {},
   "outputs": [
    {
     "data": {
      "text/plain": [
       "<gensim.models.keyedvectors.KeyedVectors at 0x108995900>"
      ]
     },
     "execution_count": 3,
     "metadata": {},
     "output_type": "execute_result"
    }
   ],
   "source": [
    "wv"
   ]
  },
  {
   "cell_type": "code",
   "execution_count": 4,
   "metadata": {},
   "outputs": [
    {
     "data": {
      "text/plain": [
       "array([ 0.11132812,  0.10595703, -0.07373047,  0.18847656,  0.07666016,\n",
       "       -0.3828125 , -0.0625    , -0.07470703,  0.05957031,  0.22167969,\n",
       "        0.20507812, -0.09228516,  0.05395508,  0.01379395, -0.16992188,\n",
       "        0.05493164,  0.09619141,  0.06103516, -0.14160156,  0.03173828,\n",
       "       -0.08642578,  0.12011719,  0.06445312,  0.22070312,  0.06835938,\n",
       "        0.04956055, -0.22460938, -0.06298828,  0.09179688, -0.00531006,\n",
       "       -0.11425781,  0.20605469,  0.31054688, -0.0625    , -0.02026367,\n",
       "       -0.13476562, -0.02697754,  0.2734375 ,  0.27929688,  0.21386719,\n",
       "        0.25195312, -0.13964844,  0.19824219, -0.07421875,  0.09228516,\n",
       "        0.125     ,  0.0612793 , -0.02990723,  0.0072937 , -0.05615234,\n",
       "       -0.08447266,  0.1796875 , -0.17578125, -0.11328125, -0.17578125,\n",
       "       -0.1171875 ,  0.09082031, -0.07177734,  0.30273438, -0.2734375 ,\n",
       "       -0.07128906,  0.33007812, -0.13574219, -0.0390625 ,  0.01397705,\n",
       "       -0.02526855,  0.05981445,  0.14550781, -0.11035156,  0.12988281,\n",
       "        0.12695312, -0.04980469,  0.16992188,  0.18261719, -0.23144531,\n",
       "        0.07910156, -0.06738281,  0.34960938, -0.07324219, -0.03442383,\n",
       "        0.01507568, -0.05957031, -0.07373047, -0.03857422, -0.06542969,\n",
       "       -0.2578125 , -0.05151367,  0.08154297,  0.08740234,  0.01318359,\n",
       "        0.06640625,  0.06152344, -0.20800781, -0.10253906, -0.12158203,\n",
       "       -0.06152344,  0.1484375 ,  0.06005859, -0.19140625, -0.05761719,\n",
       "       -0.03149414,  0.12255859,  0.19628906, -0.24902344,  0.03735352,\n",
       "        0.08056641,  0.13183594, -0.01977539,  0.19238281, -0.109375  ,\n",
       "       -0.02172852, -0.09912109, -0.00793457, -0.01251221,  0.23144531,\n",
       "       -0.01080322,  0.00234985,  0.11279297, -0.00485229,  0.01373291,\n",
       "       -0.02441406,  0.01123047, -0.22460938,  0.14160156, -0.00744629,\n",
       "       -0.01385498,  0.20996094,  0.05712891,  0.00366211, -0.07617188,\n",
       "       -0.05859375, -0.05957031,  0.00613403,  0.13183594,  0.04003906,\n",
       "       -0.11376953,  0.046875  ,  0.04199219, -0.0088501 , -0.01672363,\n",
       "        0.03173828, -0.08398438,  0.16308594, -0.17285156, -0.00866699,\n",
       "       -0.04443359,  0.10595703,  0.0145874 ,  0.04492188, -0.07568359,\n",
       "       -0.06689453, -0.0050354 , -0.10986328,  0.11572266, -0.10107422,\n",
       "        0.16210938, -0.0144043 , -0.140625  , -0.09326172, -0.02502441,\n",
       "       -0.13867188,  0.04760742, -0.01452637, -0.10986328,  0.31640625,\n",
       "       -0.11914062,  0.08203125, -0.22949219,  0.09472656, -0.0324707 ,\n",
       "       -0.18847656, -0.10986328,  0.22949219, -0.22363281, -0.07080078,\n",
       "        0.05053711,  0.20507812,  0.03979492, -0.03881836,  0.11962891,\n",
       "        0.01818848, -0.2421875 ,  0.10791016, -0.02307129, -0.06982422,\n",
       "        0.05737305, -0.15527344,  0.01989746, -0.01153564, -0.04833984,\n",
       "        0.16210938,  0.01916504,  0.06079102,  0.01177979, -0.07714844,\n",
       "       -0.02380371, -0.10693359, -0.06542969, -0.20214844, -0.07373047,\n",
       "        0.25390625,  0.12353516,  0.09130859, -0.1484375 ,  0.03662109,\n",
       "        0.02294922,  0.09375   , -0.13183594,  0.03857422,  0.13378906,\n",
       "       -0.13183594,  0.30859375, -0.0255127 ,  0.07763672, -0.09033203,\n",
       "        0.00350952,  0.32617188, -0.08203125, -0.01831055,  0.01879883,\n",
       "       -0.0390625 ,  0.17578125, -0.05273438, -0.22070312, -0.10302734,\n",
       "        0.0390625 , -0.00315857, -0.06176758, -0.01397705, -0.04003906,\n",
       "       -0.17773438,  0.20507812,  0.05004883,  0.10595703, -0.00170898,\n",
       "       -0.04223633, -0.02478027, -0.28320312, -0.08789062, -0.08349609,\n",
       "        0.12792969,  0.04931641, -0.16503906, -0.07275391,  0.00405884,\n",
       "       -0.23828125,  0.16992188, -0.06689453,  0.07958984, -0.14160156,\n",
       "        0.01287842,  0.1640625 ,  0.24511719,  0.09570312,  0.18261719,\n",
       "       -0.00179291, -0.00714111,  0.20507812, -0.40429688, -0.01940918,\n",
       "       -0.07373047, -0.16113281, -0.20800781,  0.00860596, -0.08642578,\n",
       "        0.0189209 , -0.08642578,  0.03930664,  0.03564453,  0.14550781,\n",
       "       -0.01806641,  0.14746094,  0.10888672, -0.06982422, -0.02209473,\n",
       "       -0.01361084, -0.03039551, -0.13574219, -0.0625    ,  0.04003906,\n",
       "       -0.13964844,  0.02026367, -0.12597656,  0.0703125 , -0.03015137,\n",
       "        0.11376953,  0.00337219, -0.06347656, -0.1484375 , -0.11572266,\n",
       "       -0.17675781, -0.08984375, -0.09667969, -0.11669922, -0.09082031,\n",
       "       -0.02490234, -0.00509644, -0.07226562,  0.03735352, -0.15625   ],\n",
       "      dtype=float32)"
      ]
     },
     "execution_count": 4,
     "metadata": {},
     "output_type": "execute_result"
    }
   ],
   "source": [
    "wv['big']"
   ]
  },
  {
   "cell_type": "code",
   "execution_count": 5,
   "metadata": {},
   "outputs": [
    {
     "data": {
      "text/plain": [
       "[('dogs', 0.8680489659309387),\n",
       " ('puppy', 0.8106428384780884),\n",
       " ('cat', 0.7609457969665527),\n",
       " ('canines', 0.7221246361732483),\n",
       " ('pet', 0.7164785861968994),\n",
       " ('collie', 0.6714409589767456),\n",
       " ('puppies', 0.6637066006660461),\n",
       " ('pug', 0.6611860394477844),\n",
       " ('terrier', 0.6599655747413635),\n",
       " ('poodle', 0.6549598574638367)]"
      ]
     },
     "execution_count": 5,
     "metadata": {},
     "output_type": "execute_result"
    }
   ],
   "source": [
    "wv.most_similar('dog', topn=10)"
   ]
  },
  {
   "cell_type": "code",
   "execution_count": 6,
   "metadata": {},
   "outputs": [
    {
     "data": {
      "text/plain": [
       "[('marvelous', 0.8188857436180115),\n",
       " ('fantastic', 0.8047919869422913),\n",
       " ('great', 0.7647868990898132),\n",
       " ('fabulous', 0.7614760398864746),\n",
       " ('terrific', 0.7420831918716431),\n",
       " ('lovely', 0.7320095896720886),\n",
       " ('amazing', 0.7263179421424866),\n",
       " ('beautiful', 0.6854085922241211),\n",
       " ('magnificent', 0.6633867025375366),\n",
       " ('delightful', 0.6574996113777161)]"
      ]
     },
     "execution_count": 6,
     "metadata": {},
     "output_type": "execute_result"
    }
   ],
   "source": [
    "wv.most_similar('wonderful', topn=10)"
   ]
  },
  {
   "cell_type": "code",
   "execution_count": 7,
   "metadata": {},
   "outputs": [
    {
     "data": {
      "text/plain": [
       "[('horrible', 0.7597667574882507),\n",
       " ('terrible', 0.7478911280632019),\n",
       " ('dreadful', 0.7218177318572998),\n",
       " ('horrid', 0.6720177531242371),\n",
       " ('atrocious', 0.6626645922660828),\n",
       " ('ugly', 0.6236302852630615),\n",
       " ('lousy', 0.6135216951370239),\n",
       " ('unbelievable', 0.6068726181983948),\n",
       " ('appalling', 0.6061566472053528),\n",
       " ('hideous', 0.5811460614204407)]"
      ]
     },
     "execution_count": 7,
     "metadata": {},
     "output_type": "execute_result"
    }
   ],
   "source": [
    "wv.most_similar('awful', topn=10)"
   ]
  },
  {
   "cell_type": "code",
   "execution_count": 8,
   "metadata": {},
   "outputs": [
    {
     "data": {
      "text/plain": [
       "[('loved', 0.6907791495323181),\n",
       " ('adore', 0.6816874146461487),\n",
       " ('loves', 0.6618633270263672),\n",
       " ('passion', 0.6100709438323975),\n",
       " ('hate', 0.6003956198692322),\n",
       " ('loving', 0.5886634588241577),\n",
       " ('affection', 0.5664337873458862),\n",
       " ('cherish', 0.5405279994010925),\n",
       " ('adored', 0.5365651845932007),\n",
       " ('wonderful', 0.5256202816963196)]"
      ]
     },
     "execution_count": 8,
     "metadata": {},
     "output_type": "execute_result"
    }
   ],
   "source": [
    "wv.most_similar('love', topn=10)"
   ]
  },
  {
   "cell_type": "code",
   "execution_count": 9,
   "metadata": {},
   "outputs": [
    {
     "data": {
      "text/plain": [
       "[('completed', 0.6287841200828552),\n",
       " ('completes', 0.5529298782348633),\n",
       " ('full', 0.499875545501709),\n",
       " ('completion', 0.45394039154052734),\n",
       " ('detailed', 0.4336627721786499),\n",
       " ('comprehensive', 0.4189838767051697),\n",
       " ('thorough', 0.41830331087112427),\n",
       " ('begin', 0.41768521070480347),\n",
       " ('entire', 0.4137260317802429),\n",
       " ('proceed', 0.3922833502292633)]"
      ]
     },
     "execution_count": 9,
     "metadata": {},
     "output_type": "execute_result"
    }
   ],
   "source": [
    "wv.most_similar('complete', topn=10)"
   ]
  },
  {
   "cell_type": "code",
   "execution_count": 10,
   "metadata": {},
   "outputs": [
    {
     "data": {
      "text/plain": [
       "[('organizing', 0.6603507995605469),\n",
       " ('organize', 0.6334936618804932),\n",
       " ('staged', 0.5322155356407166),\n",
       " ('orchestrated', 0.48607107996940613),\n",
       " ('formed', 0.45218321681022644),\n",
       " ('conducted', 0.4488440752029419),\n",
       " ('undertaken', 0.41358616948127747),\n",
       " ('held', 0.41076338291168213),\n",
       " ('attending', 0.3867975175380707),\n",
       " ('motivated', 0.38134443759918213)]"
      ]
     },
     "execution_count": 10,
     "metadata": {},
     "output_type": "execute_result"
    }
   ],
   "source": [
    "wv.most_similar('organized', topn=10)"
   ]
  },
  {
   "cell_type": "code",
   "execution_count": 11,
   "metadata": {},
   "outputs": [
    {
     "data": {
      "text/plain": [
       "[('better', 0.7805922031402588),\n",
       " ('stronger', 0.607010543346405),\n",
       " ('worse', 0.5609191656112671),\n",
       " ('decent', 0.5300450921058655),\n",
       " ('excellent', 0.5028262734413147)]"
      ]
     },
     "execution_count": 11,
     "metadata": {},
     "output_type": "execute_result"
    }
   ],
   "source": [
    "wv.most_similar(positive=['bigger', 'good'], negative=['big'], topn=5)"
   ]
  },
  {
   "cell_type": "code",
   "execution_count": 12,
   "metadata": {},
   "outputs": [
    {
     "data": {
      "text/plain": [
       "[('queen', 0.7118192911148071),\n",
       " ('monarch', 0.6189674735069275),\n",
       " ('princess', 0.5902431011199951),\n",
       " ('kings', 0.5236844420433044),\n",
       " ('queens', 0.5181134343147278)]"
      ]
     },
     "execution_count": 12,
     "metadata": {},
     "output_type": "execute_result"
    }
   ],
   "source": [
    "wv.most_similar(positive=['king', 'woman'], negative=['man'], topn=5)"
   ]
  },
  {
   "cell_type": "code",
   "execution_count": 13,
   "metadata": {},
   "outputs": [
    {
     "data": {
      "text/plain": [
       "[('brother', 0.7966989874839783),\n",
       " ('uncle', 0.6753759980201721),\n",
       " ('nephew', 0.6596081852912903),\n",
       " ('son', 0.6472460031509399),\n",
       " ('father', 0.6398823857307434),\n",
       " ('brothers', 0.6266913414001465),\n",
       " ('dad', 0.5981076955795288),\n",
       " ('siblings', 0.5654128789901733),\n",
       " ('daughter', 0.5610913634300232),\n",
       " ('sons', 0.5580724477767944)]"
      ]
     },
     "execution_count": 13,
     "metadata": {},
     "output_type": "execute_result"
    }
   ],
   "source": [
    "wv.most_similar(positive=['sister', 'man'], negative=['woman'], topn=10)"
   ]
  },
  {
   "cell_type": "code",
   "execution_count": 14,
   "metadata": {},
   "outputs": [
    {
     "data": {
      "text/plain": [
       "[('faster', 0.7064899206161499),\n",
       " ('rapidly', 0.5021132826805115),\n",
       " ('easier', 0.48843100666999817),\n",
       " ('slow', 0.4575234651565552),\n",
       " ('quickly', 0.4370786249637604),\n",
       " ('bigger', 0.4148872196674347),\n",
       " ('cheaper', 0.41006121039390564),\n",
       " ('louder', 0.409576416015625),\n",
       " ('slowly', 0.40936195850372314),\n",
       " ('smarter', 0.40232229232788086)]"
      ]
     },
     "execution_count": 14,
     "metadata": {},
     "output_type": "execute_result"
    }
   ],
   "source": [
    "wv.most_similar(positive=['harder', 'fast'], negative=['hard'], topn=10)"
   ]
  },
  {
   "cell_type": "code",
   "execution_count": 15,
   "metadata": {},
   "outputs": [
    {
     "data": {
      "text/plain": [
       "[('them', 0.7502678632736206),\n",
       " ('themselves', 0.5942553281784058),\n",
       " ('their', 0.5658615827560425),\n",
       " ('us', 0.5205104351043701),\n",
       " ('yourselves', 0.5106819272041321)]"
      ]
     },
     "execution_count": 15,
     "metadata": {},
     "output_type": "execute_result"
    }
   ],
   "source": [
    "wv.most_similar(positive=['him', 'they'], negative=['he'], topn=5)"
   ]
  },
  {
   "cell_type": "code",
   "execution_count": 16,
   "metadata": {},
   "outputs": [
    {
     "data": {
      "text/plain": [
       "[('black', 0.5280864238739014),\n",
       " ('brown', 0.42677968740463257),\n",
       " ('colored', 0.42052048444747925),\n",
       " ('pink', 0.3950096070766449),\n",
       " ('bean', 0.37804359197616577)]"
      ]
     },
     "execution_count": 16,
     "metadata": {},
     "output_type": "execute_result"
    }
   ],
   "source": [
    "wv.most_similar(positive=['white', 'coffee'], negative=['water'], topn=5)"
   ]
  },
  {
   "cell_type": "code",
   "execution_count": 17,
   "metadata": {},
   "outputs": [
    {
     "data": {
      "text/plain": [
       "[('summer', 0.5669187903404236),\n",
       " ('spring', 0.5186282992362976),\n",
       " ('hottest', 0.5085405707359314),\n",
       " ('summertime', 0.4723301827907562),\n",
       " ('season', 0.4058018922805786)]"
      ]
     },
     "execution_count": 17,
     "metadata": {},
     "output_type": "execute_result"
    }
   ],
   "source": [
    "wv.most_similar(positive=['winter', 'hot'], negative=['cold'], topn=5)"
   ]
  },
  {
   "cell_type": "code",
   "execution_count": 18,
   "metadata": {},
   "outputs": [
    {
     "data": {
      "text/plain": [
       "array([ 1.51464850e-01,  9.12353545e-02, -4.32617180e-02,  8.23242217e-02,\n",
       "       -2.34497078e-02, -2.36328132e-02,  3.10546868e-02, -8.69018584e-02,\n",
       "        1.93847660e-02,  6.26449585e-02,  2.28515621e-02, -1.92578122e-01,\n",
       "       -2.71484368e-02, -1.12695314e-01, -9.51660126e-02,  1.31347654e-02,\n",
       "       -5.90820312e-02,  1.01025388e-01, -1.40136722e-02, -6.15722649e-02,\n",
       "       -9.96093731e-03,  4.84039299e-02,  1.57714840e-02, -9.12261978e-02,\n",
       "        5.64453118e-02,  3.21777351e-02, -9.22851562e-02,  1.58740237e-01,\n",
       "        1.83294684e-01,  6.33789077e-02,  1.25000002e-02,  5.63964844e-02,\n",
       "       -1.88964847e-02, -4.11743149e-02, -5.76171884e-03,  5.84823601e-02,\n",
       "        4.01855484e-02, -8.20312463e-03,  1.05859376e-01,  1.91406250e-01,\n",
       "        3.95996086e-02, -1.55371100e-01,  1.12219237e-01,  1.20971678e-02,\n",
       "        3.56201157e-02, -9.12475586e-03, -1.67968757e-02,  4.03808579e-02,\n",
       "        4.86572273e-02,  6.51367158e-02, -9.76562500e-03,  7.69287124e-02,\n",
       "        5.32958992e-02, -7.70507827e-02,  4.58984375e-02,  5.12084961e-02,\n",
       "        5.52246086e-02, -1.05273440e-01,  8.73779282e-02, -5.19409180e-02,\n",
       "        3.24218757e-02,  1.40039057e-01, -7.32421875e-03, -5.30761704e-02,\n",
       "        2.75146477e-02, -4.72167954e-02,  2.88330074e-02,  1.11083984e-02,\n",
       "       -4.33349609e-03,  4.81384285e-02,  1.11279294e-01,  3.30566391e-02,\n",
       "       -4.69726548e-02, -1.27929691e-02, -7.47070312e-02, -1.96411125e-02,\n",
       "        1.32495120e-01,  2.59765629e-02,  5.53710945e-02,  2.96386722e-02,\n",
       "        1.40429690e-01, -1.00488283e-01,  6.31835908e-02, -6.34277314e-02,\n",
       "       -1.25976562e-01, -3.68652344e-02, -1.17041014e-01,  9.98779312e-02,\n",
       "        2.25952156e-02, -5.06591797e-02,  2.98828129e-02,  3.63525376e-02,\n",
       "       -3.52539048e-02, -7.58789033e-02, -1.63085945e-02, -8.21105987e-02,\n",
       "       -2.08465569e-02,  4.57763672e-02, -8.21533240e-03, -5.23437485e-02,\n",
       "       -7.22358674e-02, -9.74609405e-02,  8.17565918e-02,  1.09863281e-02,\n",
       "        1.99218746e-02, -5.97656257e-02,  7.17773428e-03, -1.16596222e-02,\n",
       "       -5.90820331e-03, -1.17517091e-01, -4.23461907e-02,  5.89843765e-02,\n",
       "        5.31982407e-02,  2.44995113e-02, -3.47137451e-02, -2.68310551e-02,\n",
       "        3.55590805e-02, -7.08496124e-02,  5.20202629e-02,  4.09179702e-02,\n",
       "       -1.07910156e-01, -1.87500007e-02, -1.78710938e-01, -9.27734363e-04,\n",
       "       -1.03906251e-01, -1.85546873e-03, -3.76953110e-02, -7.62329102e-02,\n",
       "        5.87402359e-02, -5.81054669e-03, -2.97119133e-02, -1.07568361e-01,\n",
       "       -1.28735349e-01,  1.24877933e-02, -1.18749999e-01, -4.37866226e-02,\n",
       "        3.51562500e-02, -2.52441410e-02,  9.47265606e-03,  1.17065430e-01,\n",
       "        5.81054688e-02, -2.16796882e-02,  2.56347656e-03,  3.58398445e-02,\n",
       "       -3.60816941e-02,  4.21447754e-02, -9.42382812e-02, -4.35546860e-02,\n",
       "       -8.59741196e-02, -1.62109379e-02,  1.19470216e-01, -3.02246101e-02,\n",
       "       -1.56835943e-01,  4.63867188e-02, -7.37792999e-02,  2.25585941e-02,\n",
       "        5.85937500e-03, -1.00878909e-01, -4.28710952e-02,  7.81250012e-04,\n",
       "        6.25000009e-03,  4.00878899e-02,  1.27539068e-01, -3.40332016e-02,\n",
       "       -1.98242180e-02, -9.83520523e-02,  6.04450218e-02, -6.74743671e-03,\n",
       "        6.65527359e-02, -4.32128906e-02, -2.19238289e-02, -4.35546860e-02,\n",
       "       -1.51367188e-02, -6.41845688e-02, -1.07501224e-01, -6.59179688e-03,\n",
       "        7.44682327e-02, -4.97314446e-02, -8.19335952e-02,  1.28417965e-02,\n",
       "       -3.80859384e-03,  2.61474606e-02, -2.39501949e-02, -1.04980469e-02,\n",
       "       -7.01080337e-02, -1.66137703e-02,  8.49609375e-02,  8.91601592e-02,\n",
       "        6.59179688e-02, -7.91015662e-03,  1.69555657e-02,  2.49267574e-02,\n",
       "        3.68164070e-02,  4.50195298e-02,  9.39941406e-03,  3.75488289e-02,\n",
       "       -1.19238280e-01, -4.12475578e-02, -1.33398443e-01, -4.99389656e-02,\n",
       "       -3.86718735e-02, -6.77734390e-02, -1.25292972e-01,  1.34033207e-02,\n",
       "        5.27343750e-02, -6.89453110e-02, -9.47265606e-03,  7.72460923e-02,\n",
       "        8.40820298e-02, -5.38085923e-02, -9.91210938e-02, -1.91894528e-02,\n",
       "       -1.72241218e-02,  3.97338867e-02, -1.49316400e-01, -2.78381351e-02,\n",
       "        9.14550796e-02, -1.94335934e-02, -1.35595709e-01, -1.07910158e-02,\n",
       "        6.34338409e-02, -6.56005889e-02,  3.77319343e-02, -1.04931638e-01,\n",
       "       -7.03124981e-03, -5.57861328e-02,  1.40576169e-01,  1.66015630e-03,\n",
       "        6.49414062e-02,  1.85546873e-03, -1.82128903e-02, -6.74438477e-02,\n",
       "       -1.32812504e-02,  7.95898438e-02, -6.96014389e-02,  4.02832031e-02,\n",
       "        4.52148430e-02, -3.47824097e-02,  6.69921860e-02,  4.64721695e-02,\n",
       "        1.23400882e-01, -4.83154282e-02,  3.17382801e-04, -1.43749997e-01,\n",
       "        7.37426728e-02, -1.49902347e-02,  5.44433594e-02,  4.49279770e-02,\n",
       "       -1.04492186e-02,  1.46484381e-04, -2.31445320e-02,  8.50097686e-02,\n",
       "       -2.77343746e-02,  1.54296877e-02,  2.13867184e-02,  1.15234377e-02,\n",
       "       -1.83105469e-02, -4.02343757e-02, -1.23779297e-01, -4.06494141e-02,\n",
       "        2.44140625e-03, -1.50878904e-02, -8.04687515e-02, -2.41210945e-02,\n",
       "        1.01171874e-01,  1.15429685e-01, -2.77954098e-02, -3.06640621e-02,\n",
       "       -1.81250006e-01,  5.46874991e-03, -5.94238266e-02,  8.54248032e-02,\n",
       "        5.49804680e-02,  6.80175796e-02,  4.26147468e-02, -8.45703110e-02,\n",
       "       -2.95028696e-03, -8.81835967e-02, -3.61328125e-02, -7.92388897e-03,\n",
       "        1.46582037e-01, -2.79113762e-02,  8.08837861e-02,  1.37109369e-01,\n",
       "        9.91210900e-03, -2.04833988e-02, -1.24316409e-01, -5.25878891e-02,\n",
       "        8.83789081e-03,  5.58105484e-02, -3.58154289e-02,  2.92480476e-02,\n",
       "       -1.01428226e-01,  4.88281250e-02,  1.11816404e-02, -4.30419929e-02,\n",
       "        3.66699211e-02,  4.65820320e-02, -7.85644501e-02,  1.79199222e-02],\n",
       "      dtype=float32)"
      ]
     },
     "execution_count": 18,
     "metadata": {},
     "output_type": "execute_result"
    }
   ],
   "source": [
    "(wv['the'] + wv['man'] + wv['bit'] + wv['the'] + wv['dog'])/5"
   ]
  },
  {
   "cell_type": "code",
   "execution_count": 19,
   "metadata": {},
   "outputs": [],
   "source": [
    "import numpy as np\n",
    "import pandas as pd"
   ]
  },
  {
   "cell_type": "code",
   "execution_count": 20,
   "metadata": {},
   "outputs": [
    {
     "data": {
      "text/plain": [
       "0.9977862"
      ]
     },
     "execution_count": 20,
     "metadata": {},
     "output_type": "execute_result"
    }
   ],
   "source": [
    "a1 = (wv['the'] + wv['man'] + wv['bit'] + wv['the'] + wv['dog'])/5\n",
    "a2 = (wv['the'] + wv['woman'] + wv['helped'] + wv['the'] + wv['cow'])/5\n",
    "\n",
    "dist = np.linalg.norm(a1 - a2, ord=2, axis=0)\n",
    "dist"
   ]
  },
  {
   "cell_type": "code",
   "execution_count": 56,
   "metadata": {},
   "outputs": [],
   "source": [
    "def read_from(textfile):\n",
    "\n",
    "    for line in open(textfile):\n",
    "        label, words = line.strip().split(\"\\t\")\n",
    "        yield (1 if label==\"+\" else -1, words.split())\n",
    "\n",
    "def make_vector(words):\n",
    "    v = []\n",
    "    for word in words:\n",
    "        if word in wv:\n",
    "            v.append(word)\n",
    "    return v"
   ]
  },
  {
   "cell_type": "code",
   "execution_count": 22,
   "metadata": {},
   "outputs": [],
   "source": [
    "df = pd.DataFrame(columns=['Label', 'Review'])"
   ]
  },
  {
   "cell_type": "code",
   "execution_count": 23,
   "metadata": {},
   "outputs": [],
   "source": [
    "trainfile = 'hw4_data/train.txt'\n",
    "all_labels = []\n",
    "all_reviews = []\n",
    "all_embeddings = []\n",
    "for i, (label, words) in enumerate(read_from(trainfile), 1):\n",
    "    review = make_vector(words)\n",
    "    if len(review) == 0:\n",
    "        continue\n",
    "    all_labels.append(label)\n",
    "    all_reviews.append(review)\n",
    "\n",
    "    bag_of_words = 0\n",
    "    for word in review:\n",
    "        bag_of_words += wv[word]\n",
    "    se_i = bag_of_words/len(review)\n",
    "    all_embeddings.append(se_i)\n",
    "\n",
    "df['Label'] = all_labels\n",
    "df['Review'] = all_reviews\n",
    "df['Embeddings'] = all_embeddings"
   ]
  },
  {
   "cell_type": "code",
   "execution_count": 24,
   "metadata": {},
   "outputs": [],
   "source": [
    "bag_of_words = 0\n",
    "for word in df['Review'][0]:\n",
    "    bag_of_words += wv[word]\n",
    "\n",
    "sentence_embedding1 = bag_of_words/len(df['Review'][0])"
   ]
  },
  {
   "cell_type": "code",
   "execution_count": 25,
   "metadata": {},
   "outputs": [],
   "source": [
    "bag_of_words = 0\n",
    "for word in df['Review'][1]:\n",
    "    bag_of_words += wv[word]\n",
    "\n",
    "sentence_embedding2 = bag_of_words/len(df['Review'][1])"
   ]
  },
  {
   "cell_type": "code",
   "execution_count": 26,
   "metadata": {},
   "outputs": [
    {
     "data": {
      "text/plain": [
       "0.90185475"
      ]
     },
     "execution_count": 26,
     "metadata": {},
     "output_type": "execute_result"
    }
   ],
   "source": [
    "dist = np.linalg.norm(sentence_embedding1 - sentence_embedding2, ord=2, axis=0)\n",
    "dist"
   ]
  },
  {
   "cell_type": "code",
   "execution_count": 27,
   "metadata": {},
   "outputs": [],
   "source": [
    "def get_min_dist(idx, df):\n",
    "    bag_of_words = 0\n",
    "    for word in df['Review'][idx]:\n",
    "        bag_of_words += wv[word]\n",
    "    se_idx = bag_of_words/len(df['Review'][idx])\n",
    "\n",
    "    min_dist = float('inf')\n",
    "    min_i = -1\n",
    "    for i, review in enumerate(df['Review']):\n",
    "        if i == idx:\n",
    "            continue\n",
    "        \n",
    "        bag_of_words = 0\n",
    "        for word in df['Review'][i]:\n",
    "            bag_of_words += wv[word]\n",
    "        se_i = bag_of_words/len(df['Review'][i])\n",
    "\n",
    "        dist = np.linalg.norm(se_idx - se_i, ord=2, axis=0)\n",
    "        if dist < min_dist:\n",
    "            min_dist = dist\n",
    "            min_i = i\n",
    "    \n",
    "    return min_i, min_dist"
   ]
  },
  {
   "cell_type": "code",
   "execution_count": 28,
   "metadata": {},
   "outputs": [
    {
     "data": {
      "text/plain": [
       "(2061, 0.6449662)"
      ]
     },
     "execution_count": 28,
     "metadata": {},
     "output_type": "execute_result"
    }
   ],
   "source": [
    "get_min_dist(0, df=df)"
   ]
  },
  {
   "cell_type": "code",
   "execution_count": 29,
   "metadata": {},
   "outputs": [
    {
     "name": "stdout",
     "output_type": "stream",
     "text": [
      "Label:  1 \tReview:  it tour de force written directed so quietly that it implosion rather than explosion you fear\n",
      "Label:  -1 \tReview:  semi autobiographical film that so sloppily written cast that you can not believe anyone more central the creation than the caterer had anything do with it\n"
     ]
    }
   ],
   "source": [
    "print(\"Label: \", df['Label'][0], \"\\tReview: \", ' '.join(df['Review'][0]))\n",
    "print(\"Label: \", df['Label'][2061], \"\\tReview: \", ' '.join(df['Review'][2061]))"
   ]
  },
  {
   "cell_type": "code",
   "execution_count": 30,
   "metadata": {},
   "outputs": [
    {
     "data": {
      "text/plain": [
       "(4205, 0.60505646)"
      ]
     },
     "execution_count": 30,
     "metadata": {},
     "output_type": "execute_result"
    }
   ],
   "source": [
    "get_min_dist(1, df=df)"
   ]
  },
  {
   "cell_type": "code",
   "execution_count": 31,
   "metadata": {},
   "outputs": [
    {
     "name": "stdout",
     "output_type": "stream",
     "text": [
      "Label:  -1 \tReview:  places slightly believable love triangle in difficult swallow setting then disappointingly moves the story into the realm an improbable thriller\n",
      "Label:  -1 \tReview:  the plan make enough into an inspiring tale survival wrapped in the heart pounding suspense stylish psychological thriller has flopped as surely as souffl gone wrong\n"
     ]
    }
   ],
   "source": [
    "print(\"Label: \", df['Label'][1], \"\\tReview: \", ' '.join(df['Review'][1]))\n",
    "print(\"Label: \", df['Label'][4205], \"\\tReview: \", ' '.join(df['Review'][4205]))"
   ]
  },
  {
   "cell_type": "code",
   "execution_count": 32,
   "metadata": {},
   "outputs": [],
   "source": [
    "word_embeddings = []\n",
    "for i, review in enumerate(df['Review']):\n",
    "    bag_of_words = 0\n",
    "    for word in df['Review'][i]:\n",
    "        bag_of_words += wv[word]\n",
    "    se_i = bag_of_words/len(df['Review'][i])\n",
    "    word_embeddings.append(se_i)\n",
    "\n",
    "df['Embeddings'] = word_embeddings"
   ]
  },
  {
   "cell_type": "code",
   "execution_count": 33,
   "metadata": {},
   "outputs": [
    {
     "data": {
      "text/plain": [
       "2061"
      ]
     },
     "execution_count": 33,
     "metadata": {},
     "output_type": "execute_result"
    }
   ],
   "source": [
    "dist = np.linalg.norm(np.array(df['Embeddings'].tolist()) - df['Embeddings'][0], ord=2, axis=1)\n",
    "topKIdx = np.argpartition(dist, 1)[1]\n",
    "topKIdx"
   ]
  },
  {
   "cell_type": "code",
   "execution_count": 34,
   "metadata": {},
   "outputs": [
    {
     "data": {
      "text/plain": [
       "4205"
      ]
     },
     "execution_count": 34,
     "metadata": {},
     "output_type": "execute_result"
    }
   ],
   "source": [
    "dist = np.linalg.norm(np.array(df['Embeddings'].tolist()) - df['Embeddings'][1], ord=2, axis=1)\n",
    "topKIdx = np.argpartition(dist, 1)[1]\n",
    "topKIdx"
   ]
  },
  {
   "cell_type": "code",
   "execution_count": 35,
   "metadata": {},
   "outputs": [],
   "source": [
    "from sklearn.neighbors import KNeighborsClassifier\n",
    "from sklearn.metrics import accuracy_score"
   ]
  },
  {
   "cell_type": "code",
   "execution_count": 36,
   "metadata": {},
   "outputs": [],
   "source": [
    "dev_df = pd.DataFrame(columns=['Label', 'Review', 'Embeddings'])\n",
    "\n",
    "devfile = 'hw4_data/dev.txt'\n",
    "all_labels = []\n",
    "all_reviews = []\n",
    "all_embeddings = []\n",
    "for i, (label, words) in enumerate(read_from(devfile), 1):\n",
    "    words_list = make_vector(words)\n",
    "    if len(words_list) == 0:\n",
    "        continue\n",
    "\n",
    "    all_labels.append(label)\n",
    "    all_reviews.append(words_list)\n",
    "    \n",
    "    bag_of_words = 0\n",
    "    for word in words_list:\n",
    "        bag_of_words += wv[word]\n",
    "    se_i = bag_of_words/len(words_list)\n",
    "    all_embeddings.append(se_i)\n",
    "\n",
    "dev_df['Label'] = all_labels\n",
    "dev_df['Review'] = all_reviews\n",
    "dev_df['Embeddings'] = all_embeddings"
   ]
  },
  {
   "cell_type": "code",
   "execution_count": 37,
   "metadata": {},
   "outputs": [
    {
     "data": {
      "text/plain": [
       "pandas.core.series.Series"
      ]
     },
     "execution_count": 37,
     "metadata": {},
     "output_type": "execute_result"
    }
   ],
   "source": [
    "type(df['Embeddings'])"
   ]
  },
  {
   "cell_type": "code",
   "execution_count": 38,
   "metadata": {},
   "outputs": [
    {
     "name": "stdout",
     "output_type": "stream",
     "text": [
      "k = 1 train_err: 0.00% dev_err: 36.87%\n",
      "k = 3 train_err: 16.15% dev_err: 34.67%\n",
      "k = 5 train_err: 19.84% dev_err: 34.37%\n",
      "k = 7 train_err: 21.24% dev_err: 33.67%\n",
      "k = 9 train_err: 21.99% dev_err: 31.76%\n",
      "k = 11 train_err: 22.50% dev_err: 30.56%\n",
      "k = 13 train_err: 22.81% dev_err: 31.16%\n",
      "k = 15 train_err: 23.61% dev_err: 30.26%\n",
      "k = 17 train_err: 23.46% dev_err: 31.16%\n",
      "k = 19 train_err: 23.55% dev_err: 30.76%\n",
      "k = 21 train_err: 24.04% dev_err: 30.76%\n",
      "k = 23 train_err: 24.09% dev_err: 31.06%\n",
      "k = 25 train_err: 24.02% dev_err: 30.06%\n",
      "k = 27 train_err: 24.44% dev_err: 30.26%\n",
      "k = 29 train_err: 24.31% dev_err: 29.16%\n",
      "k = 31 train_err: 24.29% dev_err: 29.46%\n",
      "k = 33 train_err: 24.28% dev_err: 30.36%\n",
      "k = 35 train_err: 24.55% dev_err: 29.56%\n",
      "k = 37 train_err: 24.62% dev_err: 29.86%\n",
      "k = 39 train_err: 24.84% dev_err: 29.86%\n",
      "k = 41 train_err: 24.79% dev_err: 30.26%\n",
      "k = 43 train_err: 24.88% dev_err: 29.56%\n",
      "k = 45 train_err: 24.64% dev_err: 29.16%\n",
      "k = 47 train_err: 24.78% dev_err: 29.16%\n",
      "k = 49 train_err: 25.16% dev_err: 28.96%\n",
      "k = 51 train_err: 24.92% dev_err: 28.76%\n",
      "k = 53 train_err: 25.01% dev_err: 28.96%\n",
      "k = 55 train_err: 25.04% dev_err: 29.06%\n",
      "k = 57 train_err: 24.75% dev_err: 29.16%\n",
      "k = 59 train_err: 25.10% dev_err: 29.56%\n",
      "k = 61 train_err: 24.75% dev_err: 28.36%\n",
      "k = 63 train_err: 25.04% dev_err: 28.16%\n",
      "k = 65 train_err: 25.11% dev_err: 28.16%\n",
      "k = 67 train_err: 25.31% dev_err: 27.86%\n",
      "k = 69 train_err: 25.11% dev_err: 28.46%\n",
      "k = 71 train_err: 25.16% dev_err: 28.76%\n",
      "k = 73 train_err: 25.16% dev_err: 27.66%\n",
      "k = 75 train_err: 25.30% dev_err: 28.76%\n",
      "k = 77 train_err: 25.48% dev_err: 28.56%\n",
      "k = 79 train_err: 25.35% dev_err: 28.56%\n",
      "k = 81 train_err: 25.12% dev_err: 28.86%\n",
      "k = 83 train_err: 25.08% dev_err: 28.46%\n",
      "k = 85 train_err: 25.24% dev_err: 28.76%\n",
      "k = 87 train_err: 25.21% dev_err: 27.96%\n",
      "k = 89 train_err: 25.31% dev_err: 28.26%\n",
      "k = 91 train_err: 25.26% dev_err: 28.66%\n",
      "k = 93 train_err: 25.28% dev_err: 29.06%\n",
      "k = 95 train_err: 25.32% dev_err: 28.96%\n",
      "k = 97 train_err: 25.35% dev_err: 29.26%\n",
      "k = 99 train_err: 25.44% dev_err: 28.56%\n"
     ]
    }
   ],
   "source": [
    "best_k = 0\n",
    "best_accuracy = 0\n",
    "\n",
    "train_err = []\n",
    "dev_err = []\n",
    "\n",
    "for k in range(1,101,2):\n",
    "\tknn = KNeighborsClassifier(n_neighbors=k)\n",
    "\tknn.fit(df['Embeddings'].tolist(), df['Label'])\n",
    "\n",
    "\ty_pred = knn.predict(df['Embeddings'].tolist())\n",
    "\taccuracy = accuracy_score(df['Label'], y_pred)\n",
    "\ttrain_err.append((1-accuracy)*100)\n",
    "\n",
    "\ty_pred_dev = knn.predict(dev_df['Embeddings'].tolist())\n",
    "\taccuracy_dev = accuracy_score(dev_df['Label'], y_pred_dev)\n",
    "\tdev_err.append((1-accuracy_dev)*100)\n",
    "\n",
    "\tif accuracy_dev > best_accuracy:\n",
    "\t\tbest_accuracy = accuracy_dev\n",
    "\t\tbest_k = k\n",
    "\n",
    "\tprint(f\"k = {k} train_err: {(1-accuracy) * 100:.2f}% dev_err: {(1-accuracy_dev) * 100:.2f}%\")\n"
   ]
  },
  {
   "cell_type": "code",
   "execution_count": 46,
   "metadata": {},
   "outputs": [
    {
     "name": "stdout",
     "output_type": "stream",
     "text": [
      "best k: 73 best dev error:  27.66\n"
     ]
    }
   ],
   "source": [
    "print(f\"best k: {best_k} best dev error:  {(1 - best_accuracy) * 100:.2f}\")\n"
   ]
  },
  {
   "cell_type": "code",
   "execution_count": 42,
   "metadata": {},
   "outputs": [],
   "source": [
    "import matplotlib.pyplot as plt"
   ]
  },
  {
   "cell_type": "code",
   "execution_count": 44,
   "metadata": {},
   "outputs": [
    {
     "data": {
      "image/png": "[encoded data removed]",
      "text/plain": [
       "<Figure size 640x480 with 1 Axes>"
      ]
     },
     "metadata": {},
     "output_type": "display_data"
    }
   ],
   "source": [
    "# plt.plot([k for k in range(1,100,2)], train_err, label = 'train error rate')\n",
    "plt.plot([k for k in range(1,100,2)], dev_err, label = 'dev error rate')\n",
    "plt.xlabel('k values')\n",
    "plt.ylabel('error percentage')\n",
    "plt.legend()\n",
    "plt.show()"
   ]
  },
  {
   "cell_type": "code",
   "execution_count": 39,
   "metadata": {},
   "outputs": [
    {
     "data": {
      "text/plain": [
       "73"
      ]
     },
     "execution_count": 39,
     "metadata": {},
     "output_type": "execute_result"
    }
   ],
   "source": [
    "best_k"
   ]
  },
  {
   "cell_type": "code",
   "execution_count": 41,
   "metadata": {},
   "outputs": [
    {
     "data": {
      "text/plain": [
       "0.2765531062124249"
      ]
     },
     "execution_count": 41,
     "metadata": {},
     "output_type": "execute_result"
    }
   ],
   "source": [
    "1-best_accuracy"
   ]
  },
  {
   "cell_type": "code",
   "execution_count": 166,
   "metadata": {},
   "outputs": [],
   "source": [
    "# IdxDict = {}\n",
    "# i = 0\n",
    "# for review in df['Review']:\n",
    "#     for word in review:\n",
    "#         if word not in IdxDict:\n",
    "#             IdxDict[word] = i\n",
    "#             i += 1\n",
    "# for review in dev_df['Review']:\n",
    "#     for word in review:\n",
    "#         if word not in IdxDict:\n",
    "#             IdxDict[word] = i\n",
    "#             i += 1"
   ]
  },
  {
   "cell_type": "code",
   "execution_count": 167,
   "metadata": {},
   "outputs": [
    {
     "data": {
      "text/plain": [
       "14414"
      ]
     },
     "execution_count": 167,
     "metadata": {},
     "output_type": "execute_result"
    }
   ],
   "source": [
    "# len(IdxDict)"
   ]
  },
  {
   "cell_type": "code",
   "execution_count": 64,
   "metadata": {},
   "outputs": [],
   "source": [
    "from hw4_data.svector import svector\n",
    "from sklearn.feature_extraction.text import CountVectorizer"
   ]
  },
  {
   "cell_type": "code",
   "execution_count": 75,
   "metadata": {},
   "outputs": [],
   "source": [
    "trainfile = 'hw4_data/train.txt'\n",
    "\n",
    "corpus = []\n",
    "y_train = []\n",
    "for i, (label, words) in enumerate(read_from(trainfile), 1):\n",
    "    corpus.append(\" \".join(words))\n",
    "    y_train.append(label)\n",
    "\n",
    "vectorizer = CountVectorizer()\n",
    "X_train_oneHot = vectorizer.fit_transform(corpus)"
   ]
  },
  {
   "cell_type": "code",
   "execution_count": 76,
   "metadata": {},
   "outputs": [],
   "source": [
    "devfile = 'hw4_data/dev.txt'\n",
    "\n",
    "corpus = []\n",
    "y_dev = []\n",
    "for i, (label, words) in enumerate(read_from(devfile), 1):\n",
    "    corpus.append(\" \".join(words))\n",
    "    y_dev.append(label)\n",
    "\n",
    "X_dev_oneHot = vectorizer.transform(corpus)"
   ]
  },
  {
   "cell_type": "code",
   "execution_count": 78,
   "metadata": {},
   "outputs": [
    {
     "name": "stdout",
     "output_type": "stream",
     "text": [
      "k = 1 dev_err: 41.30%\n",
      "k = 3 dev_err: 40.90%\n",
      "k = 5 dev_err: 41.60%\n",
      "k = 7 dev_err: 42.30%\n",
      "k = 9 dev_err: 41.70%\n",
      "k = 11 dev_err: 42.60%\n",
      "k = 13 dev_err: 43.60%\n",
      "k = 15 dev_err: 42.40%\n",
      "k = 17 dev_err: 42.00%\n",
      "k = 19 dev_err: 40.40%\n",
      "k = 21 dev_err: 42.60%\n",
      "k = 23 dev_err: 43.40%\n",
      "k = 25 dev_err: 42.90%\n",
      "k = 27 dev_err: 43.90%\n",
      "k = 29 dev_err: 42.70%\n",
      "k = 31 dev_err: 43.10%\n",
      "k = 33 dev_err: 42.30%\n",
      "k = 35 dev_err: 42.40%\n",
      "k = 37 dev_err: 43.60%\n",
      "k = 39 dev_err: 43.10%\n",
      "k = 41 dev_err: 42.40%\n",
      "k = 43 dev_err: 42.50%\n",
      "k = 45 dev_err: 43.20%\n",
      "k = 47 dev_err: 43.10%\n",
      "k = 49 dev_err: 42.10%\n",
      "k = 51 dev_err: 41.60%\n",
      "k = 53 dev_err: 42.90%\n",
      "k = 55 dev_err: 43.30%\n",
      "k = 57 dev_err: 43.00%\n",
      "k = 59 dev_err: 43.00%\n",
      "k = 61 dev_err: 42.90%\n",
      "k = 63 dev_err: 42.90%\n",
      "k = 65 dev_err: 43.20%\n",
      "k = 67 dev_err: 43.50%\n",
      "k = 69 dev_err: 42.60%\n",
      "k = 71 dev_err: 43.90%\n",
      "k = 73 dev_err: 42.50%\n",
      "k = 75 dev_err: 42.40%\n",
      "k = 77 dev_err: 42.90%\n",
      "k = 79 dev_err: 42.50%\n",
      "k = 81 dev_err: 42.40%\n",
      "k = 83 dev_err: 42.50%\n",
      "k = 85 dev_err: 42.70%\n",
      "k = 87 dev_err: 43.30%\n",
      "k = 89 dev_err: 42.80%\n",
      "k = 91 dev_err: 42.30%\n",
      "k = 93 dev_err: 42.50%\n",
      "k = 95 dev_err: 42.70%\n",
      "k = 97 dev_err: 43.20%\n",
      "k = 99 dev_err: 43.20%\n",
      "best k: 19 best dev error:  40.40\n"
     ]
    }
   ],
   "source": [
    "best_k = 0\n",
    "best_accuracy = 0\n",
    "\n",
    "train_err = []\n",
    "dev_err = []\n",
    "\n",
    "for k in range(1,101,2):\n",
    "\tknn = KNeighborsClassifier(n_neighbors=k)\n",
    "\tknn.fit(X_train_oneHot, y_train)\n",
    "\n",
    "\ty_pred_dev = knn.predict(X_dev_oneHot)\n",
    "\taccuracy_dev = accuracy_score(y_dev, y_pred_dev)\n",
    "\tdev_err.append((1-accuracy_dev)*100)\n",
    "\n",
    "\tif accuracy_dev > best_accuracy:\n",
    "\t\tbest_accuracy = accuracy_dev\n",
    "\t\tbest_k = k\n",
    "\n",
    "\tprint(f\"k = {k} dev_err: {(1-accuracy_dev) * 100:.2f}%\")\n",
    "\n",
    "print(f\"best k: {best_k} best dev error:  {(1 - best_accuracy) * 100:.2f}\")\n"
   ]
  },
  {
   "cell_type": "code",
   "execution_count": 79,
   "metadata": {},
   "outputs": [
    {
     "data": {
      "image/png": "[encoded data removed]",
      "text/plain": [
       "<Figure size 640x480 with 1 Axes>"
      ]
     },
     "metadata": {},
     "output_type": "display_data"
    }
   ],
   "source": [
    "plt.plot([k for k in range(1,100,2)], dev_err, label = 'dev error rate')\n",
    "plt.xlabel('k values')\n",
    "plt.ylabel('error percentage')\n",
    "plt.legend()\n",
    "plt.show()"
   ]
  },
  {
   "cell_type": "code",
   "execution_count": 80,
   "metadata": {},
   "outputs": [],
   "source": [
    "import time"
   ]
  },
  {
   "cell_type": "code",
   "execution_count": 92,
   "metadata": {},
   "outputs": [],
   "source": [
    "def test(X_dev, y_dev, model):\n",
    "    err = 0\n",
    "    for i, (label, words) in enumerate(zip(y_dev, X_dev), 1): # note 1...|D|\n",
    "        err += label * (model.dot(words)) <= 0\n",
    "    return err/i  # i is |D| now"
   ]
  },
  {
   "cell_type": "code",
   "execution_count": 95,
   "metadata": {},
   "outputs": [],
   "source": [
    "def train(X_train, y_train, X_dev, y_dev, epochs=5):\n",
    "    t = time.time()\n",
    "    best_err = 1.\n",
    "    model = np.ones(shape=(300,))\n",
    "    for it in range(1, epochs+1):\n",
    "        updates = 0\n",
    "        for i, (label, word_vector) in enumerate(zip(y_train, X_train), 1):\n",
    "            sent = word_vector\n",
    "            if label * (model.dot(sent)) <= 0:\n",
    "                updates += 1\n",
    "                model += (label * sent)\n",
    "        dev_err = test(X_dev, y_dev, model)\n",
    "        best_err = min(best_err, dev_err)\n",
    "        print(\"epoch %d, update %.1f%%, dev %.1f%%\" % (it, updates / i * 100, dev_err * 100))\n",
    "    print(\"best dev err %.1f%%, |w|=%d, time: %.1f secs\" % (best_err * 100, len(model), time.time() - t))"
   ]
  },
  {
   "cell_type": "code",
   "execution_count": 96,
   "metadata": {},
   "outputs": [
    {
     "name": "stdout",
     "output_type": "stream",
     "text": [
      "epoch 1, update 31.2%, dev 41.3%\n",
      "epoch 2, update 29.2%, dev 37.3%\n",
      "epoch 3, update 29.7%, dev 36.1%\n",
      "epoch 4, update 29.2%, dev 34.7%\n",
      "epoch 5, update 29.7%, dev 37.0%\n",
      "epoch 6, update 29.1%, dev 33.8%\n",
      "epoch 7, update 29.5%, dev 40.9%\n",
      "epoch 8, update 29.5%, dev 35.7%\n",
      "epoch 9, update 28.9%, dev 42.6%\n",
      "epoch 10, update 28.9%, dev 36.2%\n",
      "best dev err 33.8%, |w|=300, time: 0.1 secs\n"
     ]
    }
   ],
   "source": [
    "train(df['Embeddings'], df['Label'], dev_df['Embeddings'], dev_df['Label'], 10)"
   ]
  },
  {
   "cell_type": "code",
   "execution_count": 119,
   "metadata": {},
   "outputs": [],
   "source": [
    "def avg_train(X_train, y_train, X_dev, y_dev, epochs=5):\n",
    "    t = time.time()\n",
    "    best_err = 1.\n",
    "    model = np.ones(shape=(300,))\n",
    "    au_model = np.ones(shape=(300,))\n",
    "    # c = 0\n",
    "    for it in range(1, epochs+1):\n",
    "        updates = 0\n",
    "        for i, (label, word_vector) in enumerate(zip(y_train, X_train), 1):\n",
    "            if (len(word_vector) == 0):\n",
    "                continue\n",
    "            if label * (model.dot(word_vector)) <= 0:\n",
    "                updates += 1\n",
    "                model += label * word_vector\n",
    "            au_model += model\n",
    "            # c += 1\n",
    "        dev_err = test(X_dev, y_dev, au_model)\n",
    "        # best_err = min(best_err, dev_err)\n",
    "        if dev_err < best_err:\n",
    "            best_err = dev_err\n",
    "            model_best = au_model\n",
    "        print(\"epoch %d, update %.1f%%, dev %.1f%%\" % (it, updates / i * 100, dev_err * 100))\n",
    "    print(\"best dev err %.1f%%, |w|=%d, time: %.1f secs\" % (best_err * 100, len(au_model), time.time() - t))\n",
    "\n",
    "    return model_best"
   ]
  },
  {
   "cell_type": "code",
   "execution_count": 121,
   "metadata": {},
   "outputs": [
    {
     "name": "stdout",
     "output_type": "stream",
     "text": [
      "epoch 1, update 31.2%, dev 26.7%\n",
      "epoch 2, update 29.2%, dev 25.4%\n",
      "epoch 3, update 29.7%, dev 24.5%\n",
      "epoch 4, update 29.2%, dev 25.2%\n",
      "epoch 5, update 29.7%, dev 24.8%\n",
      "epoch 6, update 29.1%, dev 24.9%\n",
      "epoch 7, update 29.5%, dev 24.8%\n",
      "epoch 8, update 29.5%, dev 24.4%\n",
      "epoch 9, update 28.9%, dev 24.4%\n",
      "epoch 10, update 28.9%, dev 24.3%\n",
      "best dev err 24.3%, |w|=300, time: 0.1 secs\n"
     ]
    }
   ],
   "source": [
    "m = avg_train(df['Embeddings'], df['Label'], dev_df['Embeddings'], dev_df['Label'], 10)"
   ]
  },
  {
   "cell_type": "code",
   "execution_count": 111,
   "metadata": {},
   "outputs": [
    {
     "data": {
      "text/plain": [
       "str"
      ]
     },
     "execution_count": 111,
     "metadata": {},
     "output_type": "execute_result"
    }
   ],
   "source": [
    "# type(df['Embeddings'][0])\n",
    "type(df['Review'][0][0])"
   ]
  },
  {
   "cell_type": "code",
   "execution_count": 122,
   "metadata": {},
   "outputs": [],
   "source": [
    "word_counts = {}\n",
    "for words in df['Review']:\n",
    "    for word in words:\n",
    "        word_counts[word] = word_counts.get(word, 0) + 1\n",
    "\n",
    "filtered_words = []\n",
    "filtered_embeddings = []\n",
    "for words in df['Review']:\n",
    "    f_words = [word for word in words if word_counts.get(word, 0) > 1]\n",
    "    filtered_words.append(f_words)\n",
    "\n",
    "    if (len(f_words) == 0):\n",
    "        filtered_embeddings.append([])\n",
    "        continue\n",
    "\n",
    "    bag_of_words = 0\n",
    "    for word in f_words:\n",
    "        bag_of_words += wv[word]\n",
    "    se_i = bag_of_words/len(f_words)\n",
    "    filtered_embeddings.append(se_i)    \n",
    "\n",
    "df['Filtered_words'] = filtered_words\n",
    "df['Filtered_embeddings'] = filtered_embeddings"
   ]
  },
  {
   "cell_type": "code",
   "execution_count": 125,
   "metadata": {},
   "outputs": [
    {
     "name": "stdout",
     "output_type": "stream",
     "text": [
      "epoch 1, update 31.9%, dev 26.9%\n",
      "epoch 2, update 31.1%, dev 26.5%\n",
      "epoch 3, update 30.8%, dev 25.9%\n",
      "epoch 4, update 30.3%, dev 25.1%\n",
      "epoch 5, update 29.8%, dev 24.4%\n",
      "epoch 6, update 29.7%, dev 24.2%\n",
      "epoch 7, update 30.7%, dev 24.3%\n",
      "epoch 8, update 30.0%, dev 24.8%\n",
      "epoch 9, update 29.9%, dev 24.6%\n",
      "epoch 10, update 30.2%, dev 24.6%\n",
      "best dev err 24.2%, |w|=300, time: 0.1 secs\n"
     ]
    }
   ],
   "source": [
    "m = avg_train(df['Filtered_embeddings'], df['Label'], dev_df['Embeddings'], dev_df['Label'], 10)"
   ]
  },
  {
   "cell_type": "code",
   "execution_count": 128,
   "metadata": {},
   "outputs": [],
   "source": [
    "dev_wd_pred = 'emb_dev_pred.txt'\n",
    "with open(dev_wd_pred, 'w') as file:\n",
    "    for i, (label, embs, words) in enumerate(zip(dev_df['Label'], dev_df['Embeddings'], dev_df['Review'])):\n",
    "        pred = '+' if m.dot(embs) > 0 else '-'\n",
    "        file.write(f\"{pred}\\t{' '.join(words)}\\n\")"
   ]
  },
  {
   "cell_type": "code",
   "execution_count": 141,
   "metadata": {},
   "outputs": [],
   "source": [
    "def read_file(textfile):\n",
    "    all_labels = []\n",
    "    all_reviews = []\n",
    "    for line in open(textfile):\n",
    "        label, words = line.strip().split(\"\\t\")\n",
    "        all_labels.append(label)\n",
    "        all_reviews.append(words)\n",
    "    return all_labels, all_reviews\n"
   ]
  },
  {
   "cell_type": "code",
   "execution_count": 142,
   "metadata": {},
   "outputs": [],
   "source": [
    "oneHot_preds, _ = read_file('hw4_data/oneHot_dev_pred.txt')\n",
    "embd_preds, _ = read_file('emb_dev_pred.txt')\n",
    "actual_preds, reviews = read_file('hw4_data/dev.txt')"
   ]
  },
  {
   "cell_type": "code",
   "execution_count": 144,
   "metadata": {},
   "outputs": [
    {
     "name": "stdout",
     "output_type": "stream",
     "text": [
      "-\ttwo tedious acts light on great scares and a good surprise ending\n",
      "-\tit 's a long way from orwell 's dark , intelligent warning cry 1984 to the empty stud knockabout of equilibrium , and what once was conviction is now affectation\n",
      "-\toversexed , at times overwrought comedy drama that offers little insight into the experience of being forty , female and single\n",
      "-\tunlike trey parker , sandler does n't understand that the idea of exploiting molestation for laughs is funny , not actually exploiting it yourself\n",
      "-\tget out your pooper scoopers\n",
      "+\tgod bless crudup and his aversion to taking the easy hollywood road and cashing in on his movie star gorgeousness\n",
      "+\tthe performances are strong , though the subject matter demands acting that borders on hammy at times\n",
      "+\tit may scream low budget , but this charmer has a spirit that can not be denied\n",
      "+\tthe film oozes craft\n",
      "-\tthe film rehashes several old themes and is capped with pointless extremes it 's insanely violent and very graphic\n",
      "+\tif i have to choose between gorgeous animation and a lame story ( like , say , treasure planet ) or so so animation and an exciting , clever story with a batch of appealing characters , i 'll take the latter every time\n",
      "-\tmemorable for a peculiar malaise that renders its tension flaccid and , by extension , its surprises limp and its resolutions ritual\n",
      "+\tit is hard not to be especially grateful for freedom after a film like this\n",
      "-\tthe dramatic scenes are frequently unintentionally funny , and the action sequences clearly the main event are surprisingly uninvolving\n",
      "-\tin his role of observer of the scene , lawrence sounds whiny and defensive , as if his life altering experiences made him bitter and less mature\n",
      "-\tthey presume their audience wo n't sit still for a sociology lesson , however entertainingly presented , so they trot out the conventional science fiction elements of bug eyed monsters and futuristic women in skimpy clothes\n",
      "+\tthe film sometimes flags but there is enough secondary action to keep things moving along at a brisk , amusing pace\n",
      "-\tthe result is good gossip , entertainingly delivered , yet with a distinctly musty odour , its expiry date long gone\n",
      "+\ta cutesy romantic tale with a twist\n",
      "-\tyou get a sense of good intentions derailed by a failure to seek and strike just the right tone\n",
      "-\tnot everything in the film works , including its somewhat convenient ending\n",
      "+\tthis film is an act of spiritual faith an eloquent , deeply felt meditation on the nature of compassion\n",
      "-\ta movie that seems motivated more by a desire to match mortarboards with dead poets society and good will hunting than by its own story\n",
      "+\tthe action sequences are fun and reminiscent of combat scenes from the star wars series\n",
      "+\tlike the rugrats movies , the wild thornberrys movie does n't offer much more than the series , but its emphasis on caring for animals and respecting other cultures is particularly welcome\n",
      "-\tjackson and bledel seem to have been picked not for their acting chops , but for their looks and appeal to the pre teen crowd\n",
      "+\tthe messy emotions raging throughout this three hour effort are instantly recognizable , allowing the film to paradoxically feel familiar and foreign at the same time\n",
      "+\tveret has a whip smart sense of narrative bluffs\n",
      "-\twhen ` science fiction ' takes advantage of the fact that its intended audience has n't yet had much science , it does a disservice to the audience and to the genre\n",
      "+\talthough shot with little style , skins is heartfelt and achingly real\n",
      "+\tn s gosta muito de as duas torres\n",
      "+\tyou can fire a torpedo through some of clancy 's holes , and the scripters do n't deserve any oscars but the nerve raked acting , the crackle of lines , the impressive stagings of hardware , make for some robust and scary entertainment\n",
      "+\tsignificantly better than its 2002 children 's movie competition\n",
      "+\ta bodice ripper for intellectuals\n",
      "-\tgrant is n't cary and bullock is n't katherine\n",
      "+\tengages us in constant fits of laughter , until we find ourselves surprised at how much we care about the story , and end up walking out not only satisfied but also somewhat touched\n",
      "-\tits premise is smart , but the execution is pretty weary\n",
      "-\twhat 's most offensive is n't the waste of a good cast , but the film 's denial of sincere grief and mourning in favor of bogus spiritualism\n",
      "-\tsuch a fine idea for a film , and such a stultifying , lifeless execution\n",
      "+\tthe salton sea has moments of inspired humour , though every scrap is of the darkest variety\n",
      "+\treally quite funny\n",
      "-\tthat such a horrible movie could have sprung from such a great one is one of the year 's worst cinematic tragedies\n",
      "+\tthough the film never veers from its comic course , its unintentional parallels might inadvertently evoke memories and emotions which are anything but humorous\n",
      "-\tthe movie 's vision of a white american zealously spreading a puritanical brand of christianity to south seas islanders is one only a true believer could relish\n",
      "-\tdirector george hickenlooper has had some success with documentaries , but here his sense of story and his juvenile camera movements smack of a film school undergrad , and his maudlin ending might not have gotten him into film school in the first place\n",
      "-\tit has the requisite faux urban vibe and hotter two years ago rap and r b names and references\n",
      "-\tand people make fun of me for liking showgirls\n",
      "-\tlike its parade of predecessors , this halloween is a gory slash fest it ca n't escape its past , and it does n't want to\n",
      "+\tcarrying off a spot on scottish burr , duvall ( also a producer ) peels layers from this character that may well not have existed on paper\n",
      "-\tit 's as if allen , at 66 , has stopped challenging himself\n",
      "+\tapart from anything else , this is one of the best sustained ideas i have ever seen on the screen\n",
      "-\tit 's hard to believe that a relationship like holly and marina 's could survive the hothouse emotions of teendom , and its longevity gets more inexplicable as the characterizations turn more crassly reductive\n",
      "-\tinconsequential road and buddy pic\n",
      "-\texcept for paymer as the boss who ultimately expresses empathy for bartleby 's pain , the performances are so stylized as to be drained of human emotion\n",
      "+\tnorton is magnetic as graham\n",
      "-\tthis is the kind of movie where the big scene is a man shot out of a cannon into a vat of ice cream\n",
      "+\tbroomfield has a rather unique approach to documentary he thinks the film is just as much a document about him as it is about the subject\n",
      "+\tthe main story is compelling enough , but it 's difficult to shrug off the annoyance of that chatty fish\n",
      "+\tthe dirty jokes provide the funniest moments in this oddly sweet comedy about jokester highway patrolmen\n",
      "+\tthe unexplored story opportunities of punch drunk love may have worked against the maker 's minimalist intent but it is an interesting exercise by talented writer director anderson\n",
      "+\twith an obvious rapport with her actors and a striking style behind the camera , h l ne angel is definitely a director to watch\n",
      "+\tgenerates an enormous feeling of empathy for its characters\n",
      "+\ttouches smartly and wistfully on a number of themes , not least the notion that the marginal members of society might benefit from a helping hand and a friendly kick in the pants\n",
      "-\tpretend like your sat scores are below 120 and you might not notice the flaws\n",
      "+\tit may be a no brainer , but at least it 's a funny no brainer\n",
      "-\thow much you are moved by the emotional tumult of fran ois and mich le 's relationship depends a lot on how interesting and likable you find them\n",
      "-\tvan wilder has a built in audience , but only among those who are drying out from spring break and are still unconcerned about what they ingest\n",
      "+\tfor the most part , the film does hold up pretty well\n",
      "-\tsome like it hot on the hardwood proves once again that a man in drag is not in and of himself funny\n",
      "-\tthe film 's needlessly opaque intro takes its doe eyed crudup out of pre 9 11 new york and onto a cross country road trip of the homeric kind\n",
      "-\tallegiance to chekhov , which director michael cacoyannis displays with somber earnestness in the new adaptation of the cherry orchard , is a particularly vexing handicap\n",
      "+\tpoetic , heartbreaking\n",
      "+\tmyers has turned his franchise into the movie version of an adolescent dirty joke book done up in post tarantino pop culture riffs\n",
      "-\twhether quitting will prove absorbing to american audiences is debatable\n",
      "-\tit all comes down to whether you can tolerate leon barlow i ca n't\n",
      "+\ta straight shooting family film which awards animals the respect they 've rarely been given\n",
      "+\ta worthy addition to the cinematic canon , which , at last count , numbered 52 different versions\n",
      "+\tany movie that makes hard work seem heroic deserves a look\n",
      "-\thard as this may be to believe , here on earth , a surprisingly similar teen drama , was a better film\n",
      "-\tstarts off witty and sophisticated and you want to love it but filmmaker yvan attal quickly writes himself into a corner\n",
      "+\tat the end of the movie , my 6 year old nephew said , i guess i come from a broken family , and my uncles are all aliens , too congrats disney on a job well done , i enjoyed it just as much !\n",
      "+\tthis is a movie full of grace and , ultimately , hope\n",
      "-\tfrom its nauseating spinning credits sequence to a very talented but underutilized supporting cast , bartleby squanders as much as it gives out\n",
      "-\tunfunny comedy with a lot of static set ups , not much camera movement , and most of the scenes take place indoors in formal settings with motionless characters\n",
      "-\tthe laughs are as rare as snake foo yung\n",
      "-\tit 's kind of sad that so many people put so much time and energy into this turkey\n",
      "-\tmakes the same mistake as the music industry it criticizes , becoming so slick and watered down it almost loses what made you love it in the first place\n",
      "-\tan unremittingly ugly movie to look at , listen to , and think about , it is quite possibly the sturdiest example yet of why the dv revolution has cheapened the artistry of making a film\n",
      "+\tthe more you think about the movie , the more you will probably like it\n",
      "+\tit 's not particularly well made , but since i found myself howling more than cringing , i 'd say the film works\n",
      "-\ti 'm convinced i could keep a family of five blind , crippled , amish people alive in this situation better than these british soldiers do at keeping themselves kicking\n",
      "-\tmaid in manhattan proves that it 's easier to change the sheets than to change hackneyed concepts when it comes to dreaming up romantic comedies\n",
      "-\twallace directs with such patronising reverence , it turns the stomach\n",
      "-\tit looks good , but it is essentially empty\n",
      "-\tattal 's hang ups surrounding infidelity are so old fashioned and , dare i say , outdated , it 's a wonder that he could n't have brought something fresher to the proceedings simply by accident\n",
      "-\tone of those based on truth stories that persuades you , with every scene , that it could never really have happened this way\n",
      "-\tmr wollter and ms seldhal give strong and convincing performances , but neither reaches into the deepest recesses of the character to unearth the quaking essence of passion , grief and fear\n",
      "-\tboasts eye catching art direction but has a forcefully quirky tone that quickly wears out its limited welcome\n",
      "-\there the love scenes all end in someone screaming maybe there 's a metaphor here , but figuring it out would n't make trouble every day any better\n",
      "+\tif the very concept makes you nervous you 'll have an idea of the film 's creepy , scary effectiveness\n",
      "-\tspirit is a visual treat , and it takes chances that are bold by studio standards , but it lacks a strong narrative\n",
      "-\tan intriguing near miss\n",
      "+\tthe cast is phenomenal , especially the women\n",
      "+\tif it 's not entirely memorable , the movie is certainly easy to watch\n",
      "+\tfeels untidily honest\n",
      "-\tit lacks the compassion , good natured humor and the level of insight that made eyre 's first film something of a sleeper success\n",
      "+\tif the plot seems a bit on the skinny side , that 's because panic room is interested in nothing more than sucking you in and making you sweat\n",
      "+\toverall , interesting as a documentary but not very imaxy\n",
      "-\tthe most surprising thing about this film is that they are actually releasing it into theaters\n",
      "+\teven before it builds up to its insanely staged ballroom scene , in which 3000 actors appear in full regalia , it 's waltzed itself into the art film pantheon\n",
      "+\tbut this is lohman 's film her performance moves between heartbreak and rebellion as she continually tries to accommodate to fit in and gain the unconditional love she seeks\n",
      "+\ta marvel of production design\n",
      "-\tthe animation is competent , and some of the gags are quite funny , but jonah never shakes the oppressive , morally superior good for you quality that almost automatically accompanies didactic entertainment\n",
      "+\tidiotic and ugly\n",
      "-\tas self aware movies go , who is cletis tout ? is clever enough , though thin writing proves its undoing\n",
      "-\tdodgy mixture of cutesy romance , dark satire and murder mystery\n",
      "+\tgrant is certainly amusing , but the very hollowness of the character he plays keeps him at arms length\n",
      "+\tthirteen conversations about one thing lays out a narrative puzzle that interweaves individual stories , and , like a mobius strip , elliptically loops back to where it began\n",
      "-\tit 's as if solondz had two ideas for two movies , could n't really figure out how to flesh either out , so he just slopped em together here\n",
      "-\tallen 's best works understand why snobbery is a better satiric target than middle america diversions could ever be\n"
     ]
    }
   ],
   "source": [
    "for words, act_pred, oneHot_pred, emb_pred in zip(reviews, actual_preds, oneHot_preds, embd_preds):\n",
    "    if emb_pred == act_pred and oneHot_pred != act_pred:\n",
    "        print(f'{act_pred}\\t{words}')"
   ]
  },
  {
   "cell_type": "code",
   "execution_count": 145,
   "metadata": {},
   "outputs": [],
   "source": [
    "from sklearn.svm import SVC"
   ]
  },
  {
   "cell_type": "code",
   "execution_count": 147,
   "metadata": {},
   "outputs": [
    {
     "data": {
      "text/html": [
       "<div>\n",
       "<style scoped>\n",
       "    .dataframe tbody tr th:only-of-type {\n",
       "        vertical-align: middle;\n",
       "    }\n",
       "\n",
       "    .dataframe tbody tr th {\n",
       "        vertical-align: top;\n",
       "    }\n",
       "\n",
       "    .dataframe thead th {\n",
       "        text-align: right;\n",
       "    }\n",
       "</style>\n",
       "<table border=\"1\" class=\"dataframe\">\n",
       "  <thead>\n",
       "    <tr style=\"text-align: right;\">\n",
       "      <th></th>\n",
       "      <th>Label</th>\n",
       "      <th>Review</th>\n",
       "      <th>Embeddings</th>\n",
       "    </tr>\n",
       "  </thead>\n",
       "  <tbody>\n",
       "    <tr>\n",
       "      <th>0</th>\n",
       "      <td>-1</td>\n",
       "      <td>[you, could, easily, mistake, it, for, sketchy...</td>\n",
       "      <td>[0.081464976, 0.038225703, 0.06059265, 0.05828...</td>\n",
       "    </tr>\n",
       "    <tr>\n",
       "      <th>1</th>\n",
       "      <td>-1</td>\n",
       "      <td>[an, estrogen, opera, that, feminism, while, t...</td>\n",
       "      <td>[0.078538686, 0.013861762, -0.039116755, 0.061...</td>\n",
       "    </tr>\n",
       "    <tr>\n",
       "      <th>2</th>\n",
       "      <td>-1</td>\n",
       "      <td>[the, film, is, so, packed, with, subplots, in...</td>\n",
       "      <td>[0.013586956, 0.031279773, -0.017193338, 0.074...</td>\n",
       "    </tr>\n",
       "    <tr>\n",
       "      <th>3</th>\n",
       "      <td>1</td>\n",
       "      <td>[it, burns, visuals, characters, his, punchy, ...</td>\n",
       "      <td>[0.17538452, 0.0049907365, 0.061658222, 0.0387...</td>\n",
       "    </tr>\n",
       "    <tr>\n",
       "      <th>4</th>\n",
       "      <td>1</td>\n",
       "      <td>[because, the, film, deliberately, lacks, iron...</td>\n",
       "      <td>[0.10072327, 0.025946705, 0.002793052, 0.06525...</td>\n",
       "    </tr>\n",
       "    <tr>\n",
       "      <th>...</th>\n",
       "      <td>...</td>\n",
       "      <td>...</td>\n",
       "      <td>...</td>\n",
       "    </tr>\n",
       "    <tr>\n",
       "      <th>993</th>\n",
       "      <td>1</td>\n",
       "      <td>[has, the, rare, capability, break, your, hear...</td>\n",
       "      <td>[0.023361206, 0.093884274, -0.007949829, 0.102...</td>\n",
       "    </tr>\n",
       "    <tr>\n",
       "      <th>994</th>\n",
       "      <td>-1</td>\n",
       "      <td>[film, boring, pretentious, waste, nearly, two...</td>\n",
       "      <td>[-0.0055999756, 0.023793539, 0.038855236, 0.10...</td>\n",
       "    </tr>\n",
       "    <tr>\n",
       "      <th>995</th>\n",
       "      <td>-1</td>\n",
       "      <td>[the, movie, is, so, resolutely, cobbled, toge...</td>\n",
       "      <td>[0.05937304, 0.0090504605, 0.009229387, 0.1417...</td>\n",
       "    </tr>\n",
       "    <tr>\n",
       "      <th>996</th>\n",
       "      <td>-1</td>\n",
       "      <td>[instead, trying, bust, some, diggs, should, b...</td>\n",
       "      <td>[0.09277344, 0.07217568, 0.0697692, 0.10605019...</td>\n",
       "    </tr>\n",
       "    <tr>\n",
       "      <th>997</th>\n",
       "      <td>1</td>\n",
       "      <td>[mesmerizing, cinematic, poem, from, the, firs...</td>\n",
       "      <td>[0.0982666, 0.03961277, 0.08355035, 0.06174045...</td>\n",
       "    </tr>\n",
       "  </tbody>\n",
       "</table>\n",
       "<p>998 rows × 3 columns</p>\n",
       "</div>"
      ],
      "text/plain": [
       "     Label                                             Review  \\\n",
       "0       -1  [you, could, easily, mistake, it, for, sketchy...   \n",
       "1       -1  [an, estrogen, opera, that, feminism, while, t...   \n",
       "2       -1  [the, film, is, so, packed, with, subplots, in...   \n",
       "3        1  [it, burns, visuals, characters, his, punchy, ...   \n",
       "4        1  [because, the, film, deliberately, lacks, iron...   \n",
       "..     ...                                                ...   \n",
       "993      1  [has, the, rare, capability, break, your, hear...   \n",
       "994     -1  [film, boring, pretentious, waste, nearly, two...   \n",
       "995     -1  [the, movie, is, so, resolutely, cobbled, toge...   \n",
       "996     -1  [instead, trying, bust, some, diggs, should, b...   \n",
       "997      1  [mesmerizing, cinematic, poem, from, the, firs...   \n",
       "\n",
       "                                            Embeddings  \n",
       "0    [0.081464976, 0.038225703, 0.06059265, 0.05828...  \n",
       "1    [0.078538686, 0.013861762, -0.039116755, 0.061...  \n",
       "2    [0.013586956, 0.031279773, -0.017193338, 0.074...  \n",
       "3    [0.17538452, 0.0049907365, 0.061658222, 0.0387...  \n",
       "4    [0.10072327, 0.025946705, 0.002793052, 0.06525...  \n",
       "..                                                 ...  \n",
       "993  [0.023361206, 0.093884274, -0.007949829, 0.102...  \n",
       "994  [-0.0055999756, 0.023793539, 0.038855236, 0.10...  \n",
       "995  [0.05937304, 0.0090504605, 0.009229387, 0.1417...  \n",
       "996  [0.09277344, 0.07217568, 0.0697692, 0.10605019...  \n",
       "997  [0.0982666, 0.03961277, 0.08355035, 0.06174045...  \n",
       "\n",
       "[998 rows x 3 columns]"
      ]
     },
     "execution_count": 147,
     "metadata": {},
     "output_type": "execute_result"
    }
   ],
   "source": [
    "dev_df"
   ]
  },
  {
   "cell_type": "code",
   "execution_count": 152,
   "metadata": {},
   "outputs": [
    {
     "data": {
      "text/plain": [
       "list"
      ]
     },
     "execution_count": 152,
     "metadata": {},
     "output_type": "execute_result"
    }
   ],
   "source": [
    "type(df['Filtered_embeddings'].tolist())"
   ]
  },
  {
   "cell_type": "code",
   "execution_count": 155,
   "metadata": {},
   "outputs": [],
   "source": [
    "def new_make_vector(df):\n",
    "    average_word_vec = []\n",
    "    sentence_words = []\n",
    "    labels= []\n",
    "    # to_be_removed_idxs = []\n",
    "    for idx, row in df.iterrows():\n",
    "        sum_word_vecs = 0\n",
    "        number_words = 0\n",
    "        for w in row['Review']:\n",
    "            if w not in wv:\n",
    "                # print(w)\n",
    "                continue\n",
    "            number_words+=1\n",
    "            sum_word_vecs += wv[w]\n",
    "            \n",
    "        if not number_words:\n",
    "            continue\n",
    "        sentence_words.append(row['Review'])\n",
    "        average_word_vec.append(list(sum_word_vecs / number_words))\n",
    "        labels.append(row['Label'])\n",
    "    \n",
    "    return sentence_words, average_word_vec, labels"
   ]
  },
  {
   "cell_type": "code",
   "execution_count": 156,
   "metadata": {},
   "outputs": [],
   "source": [
    "train_sentences, X_train, y_train = new_make_vector(df)\n",
    "dev_sentences, X_dev, y_dev = new_make_vector(dev_df)"
   ]
  },
  {
   "cell_type": "code",
   "execution_count": 158,
   "metadata": {},
   "outputs": [
    {
     "name": "stdout",
     "output_type": "stream",
     "text": [
      "0.23647294589178358\n"
     ]
    }
   ],
   "source": [
    "# X_train = df['Filtered_embeddings'].tolist()\n",
    "# y_train = df['Label'].tolist()\n",
    "# X_dev = dev_df['Embeddings'].tolist()\n",
    "# y_dev = dev_df['Label'].tolist()\n",
    "\n",
    "svm_rbf = SVC(kernel='rbf', gamma='scale')\n",
    "svm_rbf.fit(X_train, y_train)\n",
    "rbf_preds = svm_rbf.predict(X_dev)\n",
    "rbf_accuracy = accuracy_score(y_dev, rbf_preds)\n",
    "print(1 - accuracy_score(y_dev, rbf_preds))"
   ]
  },
  {
   "cell_type": "code",
   "execution_count": 162,
   "metadata": {},
   "outputs": [],
   "source": [
    "all_reviews = []\n",
    "for line in open('hw4_data/test.txt'):\n",
    "    _, words = line.strip().split(\"\\t\")\n",
    "    all_reviews.append(words.split())"
   ]
  },
  {
   "cell_type": "code",
   "execution_count": 165,
   "metadata": {},
   "outputs": [],
   "source": [
    "average_word_vec = []\n",
    "\n",
    "for idx, row in enumerate(all_reviews):\n",
    "    sum_word_vecs = 0\n",
    "    number_words = 0\n",
    "    for w in row:\n",
    "        if w not in wv:\n",
    "            continue\n",
    "        number_words+=1\n",
    "        sum_word_vecs += wv[w]\n",
    "        \n",
    "    if not number_words:\n",
    "        continue\n",
    "    \n",
    "    average_word_vec.append(list(sum_word_vecs / number_words))"
   ]
  },
  {
   "cell_type": "code",
   "execution_count": 166,
   "metadata": {},
   "outputs": [],
   "source": [
    "rbf_preds = svm_rbf.predict(average_word_vec)"
   ]
  },
  {
   "cell_type": "code",
   "execution_count": 168,
   "metadata": {},
   "outputs": [],
   "source": [
    "with open('hw4_data/test.txt.predicted', 'w+') as outfile:\n",
    "    for i, pred in enumerate(rbf_preds):\n",
    "        out_label='?'\n",
    "        if pred == 1:\n",
    "            out_label = '+'\n",
    "        else:\n",
    "            out_label = '-'\n",
    "        current_sentence = \" \".join(all_reviews[i])\n",
    "        outfile.write(f\"{out_label}\\t{current_sentence}\\n\")"
   ]
  },
  {
   "cell_type": "code",
   "execution_count": 169,
   "metadata": {},
   "outputs": [
    {
     "name": "stdout",
     "output_type": "stream",
     "text": [
      "Positive ratio: 49.0\t Negative ratio: 51.0\n"
     ]
    }
   ],
   "source": [
    "c = pos_cnt = neg_cnt = 0\n",
    "for line in open('hw4_data/test.txt.predicted'):\n",
    "    label, _ = line.strip().split(\"\\t\")\n",
    "    pos_cnt += 1 if label == '+' else 0\n",
    "    neg_cnt += 1 if label == '-' else 0\n",
    "    c += 1\n",
    "print(f'Positive ratio: {100 * pos_cnt/c}\\t Negative ratio: {100 * neg_cnt/c}')"
   ]
  },
  {
   "cell_type": "code",
   "execution_count": null,
   "metadata": {},
   "outputs": [],
   "source": []
  }
 ],
 "metadata": {
  "kernelspec": {
   "display_name": "Python 3.10.8 ('env': venv)",
   "language": "python",
   "name": "python3"
  },
  "language_info": {
   "codemirror_mode": {
    "name": "ipython",
    "version": 3
   },
   "file_extension": ".py",
   "mimetype": "text/x-python",
   "name": "python",
   "nbconvert_exporter": "python",
   "pygments_lexer": "ipython3",
   "version": "3.10.8"
  },
  "orig_nbformat": 4,
  "vscode": {
   "interpreter": {
    "hash": "79205fcf848cb6758999d4baf397d69536d7b9c0efebe228f3b65542aeafa788"
   }
  }
 },
 "nbformat": 4,
 "nbformat_minor": 2
}
